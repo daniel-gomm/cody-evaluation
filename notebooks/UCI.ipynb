{
 "cells": [
  {
   "cell_type": "code",
   "execution_count": 1,
   "id": "716e2777-986b-4156-bd11-046ed41223f0",
   "metadata": {
    "tags": []
   },
   "outputs": [],
   "source": [
    "import pandas as pd\n",
    "import numpy as np\n",
    "import seaborn as sns\n",
    "import matplotlib.pyplot as plt\n",
    "import matplotlib\n",
    "import ast\n",
    "import tikzplotlib\n",
    "from common import analyse_results, expand_sparsity_explanation_rate"
   ]
  },
  {
   "cell_type": "code",
   "execution_count": 2,
   "id": "9f8031a2-3583-4c7c-a58d-d030f7383fca",
   "metadata": {
    "tags": []
   },
   "outputs": [],
   "source": [
    "sns.set_theme(style='white', palette='deep')\n",
    "sns.set_context('paper', font_scale=2)"
   ]
  },
  {
   "cell_type": "markdown",
   "id": "8ed1ede7-004b-4fcc-b3fb-441d198f9eb1",
   "metadata": {},
   "source": [
    "# Analyze Results for the UCI Dataset"
   ]
  },
  {
   "cell_type": "markdown",
   "id": "d3af6922-5016-4d2c-9b37-fdfe4c1b766c",
   "metadata": {},
   "source": [
    "## 1. Data Loading"
   ]
  },
  {
   "cell_type": "markdown",
   "id": "3c0c495b-869a-4c79-8992-2cd283d5de40",
   "metadata": {},
   "source": [
    "### 1.1. Load the results"
   ]
  },
  {
   "cell_type": "code",
   "execution_count": 3,
   "id": "61f37589-bc40-4847-806e-cf385b69a1cd",
   "metadata": {
    "tags": []
   },
   "outputs": [],
   "source": [
    "# Load results for CoDy\n",
    "cody_random = pd.read_parquet('../results/uci/cody/results_uci_cftgnnexplainer_random.parquet')\n",
    "cody_recent = pd.read_parquet('../results/uci/cody/results_uci_cftgnnexplainer_recent.parquet')\n",
    "cody_closest = pd.read_parquet('../results/uci/cody/results_uci_cftgnnexplainer_closest.parquet')\n",
    "cody_1_best = pd.read_parquet('../results/uci/cody/results_uci_cftgnnexplainer_1-best.parquet')\n",
    "\n",
    "cody_random_w = pd.read_parquet('../results/uci/cody/results_uci_cftgnnexplainer_random_wrong_only.parquet')\n",
    "cody_recent_w = pd.read_parquet('../results/uci/cody/results_uci_cftgnnexplainer_recent_wrong_only.parquet')\n",
    "cody_closest_w = pd.read_parquet('../results/uci/cody/results_uci_cftgnnexplainer_closest_wrong_only.parquet')\n",
    "cody_1_best_w = pd.read_parquet('../results/uci/cody/results_uci_cftgnnexplainer_1-best_wrong_only.parquet')"
   ]
  },
  {
   "cell_type": "code",
   "execution_count": 4,
   "id": "0e27d348-d659-41e7-8470-46bf13afa8c4",
   "metadata": {
    "tags": []
   },
   "outputs": [],
   "source": [
    "# Load results for Greedy Baseline\n",
    "greedy_random = pd.read_parquet('../results/uci/greedy/results_uci_greedy_random.parquet')\n",
    "greedy_recent = pd.read_parquet('../results/uci/greedy/results_uci_greedy_recent.parquet')\n",
    "greedy_closest = pd.read_parquet('../results/uci/greedy/results_uci_greedy_closest.parquet')\n",
    "greedy_1_best = pd.read_parquet('../results/uci/greedy/results_uci_greedy_1-best.parquet')\n",
    "\n",
    "greedy_random_w = pd.read_parquet('../results/uci/greedy/results_uci_greedy_random_wrong_only.parquet')\n",
    "greedy_recent_w = pd.read_parquet('../results/uci/greedy/results_uci_greedy_recent_wrong_only.parquet')\n",
    "greedy_closest_w = pd.read_parquet('../results/uci/greedy/results_uci_greedy_closest_wrong_only.parquet')\n",
    "greedy_1_best_w = pd.read_parquet('../results/uci/greedy/results_uci_greedy_1-best_wrong_only.parquet')"
   ]
  },
  {
   "cell_type": "code",
   "execution_count": 5,
   "id": "bbf9a1c5-d7c6-4fba-9013-8c90a38d060a",
   "metadata": {
    "tags": []
   },
   "outputs": [],
   "source": [
    "# Load resutls from TGNNExplainer\n",
    "tgnnex = pd.read_parquet('../results/uci/tgnnexplainer/results_uci_tgnnexplainer.parquet')\n",
    "\n",
    "tgnnex_w = pd.read_parquet('../results/uci/tgnnexplainer/results_uci_tgnnexplainer_wrong_only.parquet')"
   ]
  },
  {
   "cell_type": "markdown",
   "id": "69819f1f-2a3d-4582-8ab6-041692c15d87",
   "metadata": {},
   "source": [
    "### 1.2. Run analysis"
   ]
  },
  {
   "cell_type": "code",
   "execution_count": 6,
   "id": "6d92654c-f5e0-406d-960f-74ee7980f626",
   "metadata": {
    "tags": []
   },
   "outputs": [],
   "source": [
    "# Analyze results for CoDy\n",
    "results_cody_random = analyse_results(cody_random, 'random')\n",
    "results_cody_recent = analyse_results(cody_recent, 'recent')\n",
    "results_cody_closest = analyse_results(cody_closest, 'closest')\n",
    "results_cody_1_best = analyse_results(cody_1_best, '1-best')\n",
    "\n",
    "results_cody_random_w = analyse_results(cody_random_w, 'random')\n",
    "results_cody_recent_w = analyse_results(cody_recent_w, 'recent')\n",
    "results_cody_closest_w = analyse_results(cody_closest_w, 'closest')\n",
    "results_cody_1_best_w = analyse_results(cody_1_best_w, '1-best')"
   ]
  },
  {
   "cell_type": "code",
   "execution_count": 7,
   "id": "0a83b1ec-3f08-44ab-9461-3df8b3d18f56",
   "metadata": {
    "tags": []
   },
   "outputs": [],
   "source": [
    "# Analyze results for Greedy Baseline\n",
    "results_greedy_random = analyse_results(greedy_random, 'random')\n",
    "results_greedy_recent = analyse_results(greedy_recent, 'recent')\n",
    "results_greedy_closest = analyse_results(greedy_closest, 'closest')\n",
    "results_greedy_1_best = analyse_results(greedy_1_best, '1-best')\n",
    "\n",
    "results_greedy_random_w = analyse_results(greedy_random_w, 'random')\n",
    "results_greedy_recent_w = analyse_results(greedy_recent_w, 'recent')\n",
    "results_greedy_closest_w = analyse_results(greedy_closest_w, 'closest')\n",
    "results_greedy_1_best_w = analyse_results(greedy_1_best_w, '1-best')"
   ]
  },
  {
   "cell_type": "code",
   "execution_count": 8,
   "id": "cad1378d-d4a5-472b-9eae-64bb20794a65",
   "metadata": {
    "tags": []
   },
   "outputs": [],
   "source": [
    "# Analyze results for TGNNExplainer\n",
    "\n",
    "tgnnex['cf_example_event_ids'] = tgnnex['explanation_event_ids']\n",
    "tgnnex['orig_prediction_tgnnexplainer'] = tgnnex['original_prediction']\n",
    "tgnnex.drop('original_prediction', axis=1, inplace=True)\n",
    "tgnnex = pd.merge(tgnnex, cody_random[['explained_event_id', 'original_prediction']], how='inner', on='explained_event_id')\n",
    "tgnnex['achieves_counterfactual_explanation'] = tgnnex['original_prediction'] * tgnnex['counterfactual_prediction'] < 0\n",
    "\n",
    "tgnnex_w['cf_example_event_ids'] = tgnnex_w['explanation_event_ids']\n",
    "tgnnex_w['orig_prediction_tgnnexplainer'] = tgnnex_w['original_prediction']\n",
    "tgnnex_w.drop('original_prediction', axis=1, inplace=True)\n",
    "tgnnex_w = pd.merge(tgnnex_w, cody_random_w[['explained_event_id', 'original_prediction']], how='inner', on='explained_event_id')\n",
    "tgnnex_w['achieves_counterfactual_explanation'] = tgnnex_w['original_prediction'] * tgnnex_w['counterfactual_prediction'] < 0\n",
    "\n",
    "results_tgnnex = analyse_results(tgnnex, '-')\n",
    "\n",
    "results_tgnnex_w = analyse_results(tgnnex_w, '-')"
   ]
  },
  {
   "cell_type": "markdown",
   "id": "0f3763a0-04ac-4295-ba45-a28e2171d15d",
   "metadata": {},
   "source": [
    "### 1.3. Put data into dataframes"
   ]
  },
  {
   "cell_type": "code",
   "execution_count": 9,
   "id": "12109f66-54fb-4410-89bf-85b9022484a5",
   "metadata": {
    "tags": []
   },
   "outputs": [],
   "source": [
    "# Instantiate CoDy dataframes\n",
    "for dataframe in [results_cody_random, results_cody_recent, results_cody_closest, results_cody_1_best]:\n",
    "    dataframe['Explainer'] = 'CoDy'\n",
    "cody = pd.DataFrame([results_cody_random, results_cody_recent, results_cody_closest, results_cody_1_best])\n",
    "results_cody_random = pd.DataFrame([results_cody_random])\n",
    "results_cody_recent = pd.DataFrame([results_cody_recent])\n",
    "results_cody_closest = pd.DataFrame([results_cody_closest])\n",
    "results_cody_1_best = pd.DataFrame([results_cody_1_best])\n",
    "\n",
    "for dataframe in [results_cody_random_w, results_cody_recent_w, results_cody_closest_w, results_cody_1_best_w]:\n",
    "    dataframe['Explainer'] = 'CoDy'\n",
    "cody_w = pd.DataFrame([results_cody_random_w, results_cody_recent_w, results_cody_closest_w, results_cody_1_best_w])\n",
    "results_cody_random_w = pd.DataFrame([results_cody_random_w])\n",
    "results_cody_recent_w = pd.DataFrame([results_cody_recent_w])\n",
    "results_cody_closest_w = pd.DataFrame([results_cody_closest_w])\n",
    "results_cody_1_best_w = pd.DataFrame([results_cody_1_best_w])"
   ]
  },
  {
   "cell_type": "code",
   "execution_count": 10,
   "id": "679b60fb-2491-4d15-b324-64c43ce53013",
   "metadata": {
    "tags": []
   },
   "outputs": [],
   "source": [
    "# Instantiate Greedy Baseline dataframes\n",
    "for dataframe in [results_greedy_random, results_greedy_recent, results_greedy_closest, results_greedy_1_best]:\n",
    "    dataframe['Explainer'] = 'Greedy'\n",
    "greedy = pd.DataFrame([results_greedy_random, results_greedy_recent, results_greedy_closest, results_greedy_1_best])\n",
    "results_greedy_random = pd.DataFrame([results_greedy_random])\n",
    "results_greedy_recent = pd.DataFrame([results_greedy_recent])\n",
    "results_greedy_closest = pd.DataFrame([results_greedy_closest])\n",
    "results_greedy_1_best = pd.DataFrame([results_greedy_1_best])\n",
    "\n",
    "for dataframe in [results_greedy_random_w, results_greedy_recent_w, results_greedy_closest_w, results_greedy_1_best_w]:\n",
    "    dataframe['Explainer'] = 'Greedy'\n",
    "greedy_w = pd.DataFrame([results_greedy_random_w, results_greedy_recent_w, results_greedy_closest_w, results_greedy_1_best_w])\n",
    "results_greedy_random_w = pd.DataFrame([results_greedy_random_w])\n",
    "results_greedy_recent_w = pd.DataFrame([results_greedy_recent_w])\n",
    "results_greedy_closest_w = pd.DataFrame([results_greedy_closest_w])\n",
    "results_greedy_1_best_w = pd.DataFrame([results_greedy_1_best_w])"
   ]
  },
  {
   "cell_type": "code",
   "execution_count": 11,
   "id": "23f6ff4c-0656-4f27-a1a7-3733a15b5ebb",
   "metadata": {
    "tags": []
   },
   "outputs": [],
   "source": [
    "# Instantiate TGNNExplainer dataframes\n",
    "results_tgnnex['Explainer'] = 'TGNNExplainer'\n",
    "tgnnexplainer = pd.DataFrame([results_tgnnex])\n",
    "\n",
    "results_tgnnex_w['Explainer'] = 'TGNNExplainer'\n",
    "tgnnexplainer_w = pd.DataFrame([results_tgnnex_w])"
   ]
  },
  {
   "cell_type": "code",
   "execution_count": 12,
   "id": "803d3731-897b-4a4a-87e6-b35e24b21a28",
   "metadata": {
    "tags": []
   },
   "outputs": [],
   "source": [
    "# Combined datasets\n",
    "correct_predictions = pd.concat([cody, greedy, tgnnexplainer])\n",
    "\n",
    "wrong_predictions = pd.concat([cody_w, greedy_w, tgnnexplainer_w])"
   ]
  },
  {
   "cell_type": "code",
   "execution_count": 13,
   "id": "2cbc6c6c-eb7a-4e67-a499-902f2e6fb161",
   "metadata": {
    "tags": []
   },
   "outputs": [],
   "source": [
    "results_cody_1_best_e = expand_sparsity_explanation_rate(results_cody_1_best)\n",
    "results_cody_closest_e = expand_sparsity_explanation_rate(results_cody_closest)\n",
    "results_cody_random_e = expand_sparsity_explanation_rate(results_cody_random)\n",
    "results_cody_recent_e = expand_sparsity_explanation_rate(results_cody_recent)\n",
    "\n",
    "results_greedy_1_best_e = expand_sparsity_explanation_rate(results_greedy_1_best)\n",
    "results_greedy_closest_e = expand_sparsity_explanation_rate(results_greedy_closest)\n",
    "results_greedy_random_e = expand_sparsity_explanation_rate(results_greedy_random)\n",
    "results_greedy_recent_e = expand_sparsity_explanation_rate(results_greedy_recent)\n",
    "\n",
    "tgnnexplainer_e = expand_sparsity_explanation_rate(tgnnexplainer)\n",
    "\n",
    "\n",
    "results_cody_1_best_w_e = expand_sparsity_explanation_rate(results_cody_1_best_w)\n",
    "results_cody_closest_w_e = expand_sparsity_explanation_rate(results_cody_closest_w)\n",
    "results_cody_random_w_e = expand_sparsity_explanation_rate(results_cody_random_w)\n",
    "results_cody_recent_w_e = expand_sparsity_explanation_rate(results_cody_recent_w)\n",
    "\n",
    "results_greedy_1_best_w_e = expand_sparsity_explanation_rate(results_greedy_1_best_w)\n",
    "results_greedy_closest_w_e = expand_sparsity_explanation_rate(results_greedy_closest_w)\n",
    "results_greedy_random_w_e = expand_sparsity_explanation_rate(results_greedy_random_w)\n",
    "results_greedy_recent_w_e = expand_sparsity_explanation_rate(results_greedy_recent_w)\n",
    "\n",
    "tgnnexplainer_w_e = expand_sparsity_explanation_rate(tgnnexplainer_w)"
   ]
  },
  {
   "cell_type": "markdown",
   "id": "a14432a5-4324-4e71-a51f-17902cf205f9",
   "metadata": {},
   "source": [
    "### 1.4. Set Mappings"
   ]
  },
  {
   "cell_type": "code",
   "execution_count": 14,
   "id": "34ad19ca-2317-4b45-a4b8-e38ef4d72386",
   "metadata": {},
   "outputs": [],
   "source": [
    "explainer_mapping = {\n",
    "    'CoDy': 'o',\n",
    "    'Greedy': 'X',\n",
    "    'TGNNExplainer': 'v'\n",
    "}\n",
    "\n",
    "selection_strategy_mapping = {\n",
    "    'random': 'tab:green',\n",
    "    'closest': 'tab:red',\n",
    "    'recent': 'tab:orange',\n",
    "    '1-best': 'tab:blue',\n",
    "    '-': 'k'\n",
    "}"
   ]
  },
  {
   "cell_type": "markdown",
   "id": "444ac887-e534-4372-97d0-e93458bd3e14",
   "metadata": {},
   "source": [
    "## 2. Analysis"
   ]
  },
  {
   "cell_type": "markdown",
   "id": "5a025167-8b60-41ad-b7c2-36a3fe1504f1",
   "metadata": {},
   "source": [
    "### 2.1. Fidelity Analysis\n",
    "\n",
    "$fid_+ = 1 - \\frac{1}{N} \\sum_{i = 1}^N \\mathbb{1}(p(f(\\mathcal{G}(t_i)), \\varepsilon_i) = p(f(\\mathcal{G}(t_i) \\setminus \\mathcal{X}_{\\varepsilon_i}, \\varepsilon_i)))$\n",
    "\n",
    "$fid_- = 1 - \\frac{1}{N} \\sum_{i = 1}^N \\mathbb{1}(p(f(\\mathcal{G}(t_i)), \\varepsilon_i) = p(f(\\mathcal{X}_{\\varepsilon_i}, \\varepsilon_i)))$\n",
    "\n",
    "$sparsity = \\frac{1}{N} \\sum_{i = 1}^N \\frac{|\\mathcal{X}_{\\varepsilon_i}|}{|C(\\mathcal{G}, \\varepsilon_i, k, m_{max})|}$"
   ]
  },
  {
   "cell_type": "code",
   "execution_count": 15,
   "id": "62db9a10-4d5a-41c4-af03-6414becf8174",
   "metadata": {},
   "outputs": [
    {
     "data": {
      "image/png": "[encoded data removed]",
      "text/plain": [
       "<Figure size 640x480 with 1 Axes>"
      ]
     },
     "metadata": {},
     "output_type": "display_data"
    }
   ],
   "source": [
    "fig = plt.figure()\n",
    "ax = fig.add_subplot(1, 1, 1)\n",
    "\n",
    "ax.plot(results_cody_1_best_e['sparsity'], results_cody_1_best_e['explanation rate'], color='tab:blue')\n",
    "ax.plot(results_cody_recent_e['sparsity'], results_cody_recent_e['explanation rate'], color='tab:orange')\n",
    "ax.plot(results_cody_random_e['sparsity'], results_cody_random_e['explanation rate'], color='tab:green')\n",
    "ax.plot(results_cody_closest_e['sparsity'], results_cody_closest_e['explanation rate'], color='tab:red')\n",
    "\n",
    "ax.plot(results_greedy_1_best_e['sparsity'], results_greedy_1_best_e['explanation rate'], color='tab:blue', linestyle='dashed')\n",
    "ax.plot(results_greedy_recent_e['sparsity'], results_greedy_recent_e['explanation rate'], color='tab:orange', linestyle='dashed')\n",
    "ax.plot(results_greedy_random_e['sparsity'], results_greedy_random_e['explanation rate'], color='tab:green', linestyle='dashed')\n",
    "ax.plot(results_greedy_closest_e['sparsity'], results_greedy_closest_e['explanation rate'], color='tab:red', linestyle='dashed')\n",
    "\n",
    "ax.plot(tgnnexplainer_e['sparsity'], tgnnexplainer_e['explanation rate'], color='k', linestyle='-.')\n",
    "\n",
    "ax.set_xlim([0, 1])\n",
    "ax.set_ylim([0, 0.45])\n",
    "\n",
    "ax.set_title('Correct predictions')\n",
    "\n",
    "plt.xlabel('sparsity')\n",
    "plt.ylabel('fid+')\n",
    "\n",
    "plt.grid(True)\n",
    "\n",
    "tikzplotlib.save('../plots/fid_spar_uci.tex')\n",
    "plt.savefig('../plots/svg/fid_spar_uci.svg')\n",
    "\n",
    "plt.show()"
   ]
  },
  {
   "cell_type": "code",
   "execution_count": 16,
   "id": "24f3f739-fca7-4304-af55-2f6961d7e75e",
   "metadata": {
    "tags": []
   },
   "outputs": [
    {
     "data": {
      "image/png": "[encoded data removed]",
      "text/plain": [
       "<Figure size 640x480 with 1 Axes>"
      ]
     },
     "metadata": {},
     "output_type": "display_data"
    }
   ],
   "source": [
    "fig = plt.figure()\n",
    "ax = fig.add_subplot(1, 1, 1)\n",
    "\n",
    "ax.plot(results_cody_1_best_w_e['sparsity'], results_cody_1_best_w_e['explanation rate'], color='tab:blue')\n",
    "ax.plot(results_cody_recent_w_e['sparsity'], results_cody_recent_w_e['explanation rate'], color='tab:orange')\n",
    "ax.plot(results_cody_random_w_e['sparsity'], results_cody_random_w_e['explanation rate'], color='tab:green')\n",
    "ax.plot(results_cody_closest_w_e['sparsity'], results_cody_closest_w_e['explanation rate'], color='tab:red')\n",
    "\n",
    "ax.plot(results_greedy_1_best_w_e['sparsity'], results_greedy_1_best_w_e['explanation rate'], color='tab:blue', linestyle='dashed')\n",
    "ax.plot(results_greedy_recent_w_e['sparsity'], results_greedy_recent_w_e['explanation rate'], color='tab:orange', linestyle='dashed')\n",
    "ax.plot(results_greedy_random_w_e['sparsity'], results_greedy_random_w_e['explanation rate'], color='tab:green', linestyle='dashed')\n",
    "ax.plot(results_greedy_closest_w_e['sparsity'], results_greedy_closest_w_e['explanation rate'], color='tab:red', linestyle='dashed')\n",
    "\n",
    "ax.plot(tgnnexplainer_w_e['sparsity'], tgnnexplainer_w_e['explanation rate'], color='k', linestyle='-.')\n",
    "\n",
    "ax.set_xlim([0, 1])\n",
    "ax.set_ylim([0, 0.45])\n",
    "\n",
    "ax.set_title('Wrong predictions')\n",
    "\n",
    "plt.xlabel('sparsity')\n",
    "plt.ylabel('fid+')\n",
    "\n",
    "plt.grid(True)\n",
    "\n",
    "tikzplotlib.save('../plots/fid_spar_uci_wrong.tex')\n",
    "\n",
    "plt.savefig('../plots/svg/fid_spar_uci_wrong.svg')\n",
    "\n",
    "plt.show()"
   ]
  },
  {
   "cell_type": "code",
   "execution_count": 17,
   "id": "90e722ca-4e61-408a-8fcc-c6e55a6214c1",
   "metadata": {},
   "outputs": [
    {
     "data": {
      "image/png": "[encoded data removed]",
      "text/plain": [
       "<Figure size 640x480 with 1 Axes>"
      ]
     },
     "metadata": {},
     "output_type": "display_data"
    }
   ],
   "source": [
    "fig = plt.figure()\n",
    "ax = fig.add_subplot(1, 1, 1)\n",
    "\n",
    "for index, row in correct_predictions.iterrows():\n",
    "    ax.scatter(row['fidelity_plus'], row['fidelity_minus'], c=selection_strategy_mapping[row['Selection strategy']], marker=explainer_mapping[row['Explainer']])\n",
    "\n",
    "ax.set_title('Correct predictions')\n",
    "\n",
    "plt.xlabel('fid-')\n",
    "plt.ylabel('fid+')\n",
    "\n",
    "plt.grid(True)\n",
    "\n",
    "tikzplotlib.save('../plots/fid_plus_minus_uci.tex')\n",
    "\n",
    "plt.savefig('../plots/svg/fid_plus_minus_uci.svg')\n",
    "\n",
    "plt.show()"
   ]
  },
  {
   "cell_type": "code",
   "execution_count": 18,
   "id": "45340226-ce1b-4328-92e1-a426369ec52c",
   "metadata": {},
   "outputs": [
    {
     "data": {
      "image/png": "[encoded data removed]",
      "text/plain": [
       "<Figure size 640x480 with 1 Axes>"
      ]
     },
     "metadata": {},
     "output_type": "display_data"
    }
   ],
   "source": [
    "fig = plt.figure()\n",
    "ax = fig.add_subplot(1, 1, 1)\n",
    "\n",
    "for index, row in wrong_predictions.iterrows():\n",
    "    ax.scatter(row['fidelity_plus'], row['fidelity_minus'], c=selection_strategy_mapping[row['Selection strategy']], marker=explainer_mapping[row['Explainer']])\n",
    "\n",
    "ax.set_title('Wrong predictions')\n",
    "\n",
    "plt.xlabel('fid-')\n",
    "plt.ylabel('fid+')\n",
    "\n",
    "plt.grid(True)\n",
    "\n",
    "tikzplotlib.save('../plots/fid_plus_minus_uci_wrong.tex')\n",
    "\n",
    "plt.savefig('../plots/svg/fid_plus_minus_uci_wrong.svg')\n",
    "\n",
    "plt.show()"
   ]
  },
  {
   "cell_type": "code",
   "execution_count": null,
   "id": "d73349bd-0bc9-4b0b-ae2c-82f7904b1a7f",
   "metadata": {},
   "outputs": [],
   "source": []
  },
  {
   "cell_type": "markdown",
   "id": "9d2a447c-2d92-4ccb-91cd-59ab3ddebaa3",
   "metadata": {},
   "source": [
    "### 2.2. Runtime"
   ]
  },
  {
   "cell_type": "code",
   "execution_count": 19,
   "id": "efb376c3-8879-474f-9722-89a9e7481504",
   "metadata": {},
   "outputs": [
    {
     "name": "stderr",
     "output_type": "stream",
     "text": [
      "/home/daniel/miniconda3/envs/analysis/lib/python3.9/site-packages/tikzplotlib/_hatches.py:65: UserWarning: tikzplotlib: Hatch '////' cannot be rendered. Only single character hatches are supported, e.g., {'/', '\\', '|', '-', '+', 'x', 'o', 'O', '.', '*'}. Hatch '/' will be used.\n",
      "  warnings.warn(\n"
     ]
    },
    {
     "data": {
      "image/png": "[encoded data removed]",
      "text/plain": [
       "<Figure size 640x480 with 1 Axes>"
      ]
     },
     "metadata": {},
     "output_type": "display_data"
    }
   ],
   "source": [
    "fig = plt.figure()\n",
    "ax = fig.add_subplot(1, 1, 1)\n",
    "\n",
    "x = np.arange(2)\n",
    "\n",
    "width = 0.075\n",
    "multiplier = 0\n",
    "\n",
    "\n",
    "for selection_strategy in [selection_strategy for selection_strategy in selection_strategy_mapping.keys() if selection_strategy != '-']:\n",
    "    offset = width * multiplier\n",
    "    durations = correct_predictions[correct_predictions['Selection strategy'] == selection_strategy]['Duration'].to_numpy()\n",
    "    ax.bar(x + offset, durations, width, color=selection_strategy_mapping[selection_strategy], linewidth=0)\n",
    "    multiplier += 1\n",
    "    \n",
    "    offset = width * multiplier\n",
    "    durations = wrong_predictions[wrong_predictions['Selection strategy'] == selection_strategy]['Duration'].to_numpy()\n",
    "    ax.bar(x + offset, durations, width, color=selection_strategy_mapping[selection_strategy], hatch='////', linewidth=0)\n",
    "    multiplier += 1\n",
    "\n",
    "ax.bar(2, tgnnex['total_duration'].mean()/1000000000, width, color='k')\n",
    "ax.bar(2 + width, tgnnex_w['total_duration'].mean()/1000000000, width, color='k', hatch='////', linewidth=0)\n",
    "\n",
    "ax.set_xticks((0.3, 1.3, 2.075), ('CoDy', 'Greedy', 'TGNNExplainer'))\n",
    "ax.set_ylabel('Duration per iteration (s)')\n",
    "ax.set_xlabel('Explainer')\n",
    "\n",
    "tikzplotlib.save('../plots/duration_uci.tex')\n",
    "\n",
    "plt.savefig('../plots/svg/duration_uci.svg')\n",
    "    \n",
    "plt.show()"
   ]
  },
  {
   "cell_type": "code",
   "execution_count": null,
   "id": "20b0a150-2e89-4475-9c8b-eb2b36d654ce",
   "metadata": {},
   "outputs": [],
   "source": []
  },
  {
   "cell_type": "markdown",
   "id": "e887c6a6-5f54-4141-960d-b55d2b7faf3e",
   "metadata": {},
   "source": [
    "### 2.3. Fidelity over Iterations"
   ]
  },
  {
   "cell_type": "code",
   "execution_count": 20,
   "id": "df18f242-2381-4b8a-bbf0-09f6b04f7889",
   "metadata": {
    "tags": []
   },
   "outputs": [],
   "source": [
    "def fid_over_iterations(df:pd.DataFrame):\n",
    "    iteration_sum = [-0.0000001]\n",
    "    iterations = [-0.0000001]\n",
    "    for iteration in np.sort(df['cf_example_step'].unique()):\n",
    "        iterations.append(iteration)\n",
    "        iteration_sum.append(len(df[df['cf_example_step'] <= iteration]))\n",
    "    iterations = np.array(iterations[:-1])\n",
    "    fid_minus = np.array(iteration_sum[:-1])/len(df)\n",
    "    return iterations, fid_minus"
   ]
  },
  {
   "cell_type": "code",
   "execution_count": 21,
   "id": "cc1d8b62-c9a8-46c3-9ac0-44c28c2bc1bd",
   "metadata": {
    "tags": []
   },
   "outputs": [],
   "source": [
    "cody_recent_1200 = pd.read_parquet('../results/uci/alterations/results_uci_cftgnnexplainer_recent_1200.parquet')\n",
    "it, fid = fid_over_iterations(cody_recent_1200)"
   ]
  },
  {
   "cell_type": "code",
   "execution_count": 22,
   "id": "4319edca-fded-42aa-96e3-506c20184dc8",
   "metadata": {
    "tags": []
   },
   "outputs": [
    {
     "data": {
      "image/png": "[encoded data removed]",
      "text/plain": [
       "<Figure size 640x480 with 1 Axes>"
      ]
     },
     "metadata": {},
     "output_type": "display_data"
    }
   ],
   "source": [
    "fig = plt.figure()\n",
    "ax = fig.add_subplot(1, 1, 1)\n",
    "\n",
    "ax.plot(it, fid, color='tab:orange')\n",
    "ax.axhline(y=results_greedy_recent['fidelity_minus'][0], color='tab:orange', linestyle='dashed')\n",
    "ax.plot(results_greedy_recent['fidelity_minus'][0], color='tab:orange')\n",
    "\n",
    "ax.set_ylabel('fid+')\n",
    "ax.set_xlabel('Iterations')\n",
    "\n",
    "plt.grid(True)\n",
    "\n",
    "tikzplotlib.save('../plots/fid_it_uci.tex')\n",
    "\n",
    "plt.savefig('../plots/svg/fid_it_uci.svg')\n",
    "\n",
    "plt.show()"
   ]
  },
  {
   "cell_type": "code",
   "execution_count": null,
   "id": "f93b6718-35a4-47a2-bbee-ab6786d576a6",
   "metadata": {},
   "outputs": [],
   "source": []
  },
  {
   "cell_type": "markdown",
   "id": "0e35693f-1115-4373-adb3-777f76e44658",
   "metadata": {},
   "source": [
    "## 3. Tabular Analysis"
   ]
  },
  {
   "cell_type": "markdown",
   "id": "7d580bed-7e0d-44a9-b29c-78f03285684a",
   "metadata": {},
   "source": [
    "### 3.1. Performance Overview"
   ]
  },
  {
   "cell_type": "code",
   "execution_count": 17,
   "id": "86c4fa38-5f87-4476-8a00-408ddcfdaa8c",
   "metadata": {},
   "outputs": [
    {
     "data": {
      "text/html": [
       "<div>\n",
       "<style scoped>\n",
       "    .dataframe tbody tr th:only-of-type {\n",
       "        vertical-align: middle;\n",
       "    }\n",
       "\n",
       "    .dataframe tbody tr th {\n",
       "        vertical-align: top;\n",
       "    }\n",
       "\n",
       "    .dataframe thead th {\n",
       "        text-align: right;\n",
       "    }\n",
       "</style>\n",
       "<table border=\"1\" class=\"dataframe\">\n",
       "  <thead>\n",
       "    <tr style=\"text-align: right;\">\n",
       "      <th></th>\n",
       "      <th>Explainer</th>\n",
       "      <th>Selection strategy</th>\n",
       "      <th>fidelity_plus</th>\n",
       "      <th>fidelity_minus</th>\n",
       "      <th>sparsity</th>\n",
       "      <th>sparsity_all</th>\n",
       "      <th>characterization_score</th>\n",
       "    </tr>\n",
       "  </thead>\n",
       "  <tbody>\n",
       "    <tr>\n",
       "      <th>0</th>\n",
       "      <td>CoDy</td>\n",
       "      <td>random</td>\n",
       "      <td>0.655</td>\n",
       "      <td>0.315</td>\n",
       "      <td>0.044147</td>\n",
       "      <td>0.085938</td>\n",
       "      <td>0.425412</td>\n",
       "    </tr>\n",
       "    <tr>\n",
       "      <th>1</th>\n",
       "      <td>CoDy</td>\n",
       "      <td>recent</td>\n",
       "      <td>0.660</td>\n",
       "      <td>0.385</td>\n",
       "      <td>0.069602</td>\n",
       "      <td>0.097109</td>\n",
       "      <td>0.486316</td>\n",
       "    </tr>\n",
       "    <tr>\n",
       "      <th>2</th>\n",
       "      <td>CoDy</td>\n",
       "      <td>closest</td>\n",
       "      <td>0.630</td>\n",
       "      <td>0.215</td>\n",
       "      <td>0.080305</td>\n",
       "      <td>0.078437</td>\n",
       "      <td>0.320592</td>\n",
       "    </tr>\n",
       "    <tr>\n",
       "      <th>3</th>\n",
       "      <td>CoDy</td>\n",
       "      <td>1-best</td>\n",
       "      <td>0.675</td>\n",
       "      <td>0.400</td>\n",
       "      <td>0.066016</td>\n",
       "      <td>0.087266</td>\n",
       "      <td>0.502326</td>\n",
       "    </tr>\n",
       "    <tr>\n",
       "      <th>0</th>\n",
       "      <td>Greedy</td>\n",
       "      <td>random</td>\n",
       "      <td>0.280</td>\n",
       "      <td>0.050</td>\n",
       "      <td>0.039062</td>\n",
       "      <td>0.023906</td>\n",
       "      <td>0.084848</td>\n",
       "    </tr>\n",
       "    <tr>\n",
       "      <th>1</th>\n",
       "      <td>Greedy</td>\n",
       "      <td>recent</td>\n",
       "      <td>0.610</td>\n",
       "      <td>0.425</td>\n",
       "      <td>0.044485</td>\n",
       "      <td>0.047500</td>\n",
       "      <td>0.500966</td>\n",
       "    </tr>\n",
       "    <tr>\n",
       "      <th>2</th>\n",
       "      <td>Greedy</td>\n",
       "      <td>closest</td>\n",
       "      <td>0.010</td>\n",
       "      <td>0.010</td>\n",
       "      <td>0.023438</td>\n",
       "      <td>0.022422</td>\n",
       "      <td>0.010000</td>\n",
       "    </tr>\n",
       "    <tr>\n",
       "      <th>3</th>\n",
       "      <td>Greedy</td>\n",
       "      <td>1-best</td>\n",
       "      <td>0.640</td>\n",
       "      <td>0.285</td>\n",
       "      <td>0.028509</td>\n",
       "      <td>0.043672</td>\n",
       "      <td>0.394378</td>\n",
       "    </tr>\n",
       "    <tr>\n",
       "      <th>0</th>\n",
       "      <td>TGNNExplainer</td>\n",
       "      <td>-</td>\n",
       "      <td>0.565</td>\n",
       "      <td>0.045</td>\n",
       "      <td>0.288889</td>\n",
       "      <td>0.293023</td>\n",
       "      <td>0.083361</td>\n",
       "    </tr>\n",
       "  </tbody>\n",
       "</table>\n",
       "</div>"
      ],
      "text/plain": [
       "       Explainer Selection strategy  fidelity_plus  fidelity_minus  sparsity   \n",
       "0           CoDy             random          0.655           0.315  0.044147  \\\n",
       "1           CoDy             recent          0.660           0.385  0.069602   \n",
       "2           CoDy            closest          0.630           0.215  0.080305   \n",
       "3           CoDy             1-best          0.675           0.400  0.066016   \n",
       "0         Greedy             random          0.280           0.050  0.039062   \n",
       "1         Greedy             recent          0.610           0.425  0.044485   \n",
       "2         Greedy            closest          0.010           0.010  0.023438   \n",
       "3         Greedy             1-best          0.640           0.285  0.028509   \n",
       "0  TGNNExplainer                  -          0.565           0.045  0.288889   \n",
       "\n",
       "   sparsity_all  characterization_score  \n",
       "0      0.085938                0.425412  \n",
       "1      0.097109                0.486316  \n",
       "2      0.078437                0.320592  \n",
       "3      0.087266                0.502326  \n",
       "0      0.023906                0.084848  \n",
       "1      0.047500                0.500966  \n",
       "2      0.022422                0.010000  \n",
       "3      0.043672                0.394378  \n",
       "0      0.293023                0.083361  "
      ]
     },
     "execution_count": 17,
     "metadata": {},
     "output_type": "execute_result"
    }
   ],
   "source": [
    "correct_predictions[['Explainer', 'Selection strategy', 'fidelity_plus', 'fidelity_minus', 'sparsity', 'sparsity_all', 'characterization_score']].to_csv('../tables/uci_correct.csv')\n",
    "correct_predictions[['Explainer', 'Selection strategy', 'fidelity_plus', 'fidelity_minus', 'sparsity', 'sparsity_all', 'characterization_score']]"
   ]
  },
  {
   "cell_type": "code",
   "execution_count": 18,
   "id": "d91a8496-489a-4e80-91be-03f29b5dee87",
   "metadata": {},
   "outputs": [
    {
     "data": {
      "text/html": [
       "<div>\n",
       "<style scoped>\n",
       "    .dataframe tbody tr th:only-of-type {\n",
       "        vertical-align: middle;\n",
       "    }\n",
       "\n",
       "    .dataframe tbody tr th {\n",
       "        vertical-align: top;\n",
       "    }\n",
       "\n",
       "    .dataframe thead th {\n",
       "        text-align: right;\n",
       "    }\n",
       "</style>\n",
       "<table border=\"1\" class=\"dataframe\">\n",
       "  <thead>\n",
       "    <tr style=\"text-align: right;\">\n",
       "      <th></th>\n",
       "      <th>Explainer</th>\n",
       "      <th>Selection strategy</th>\n",
       "      <th>fidelity_plus</th>\n",
       "      <th>fidelity_minus</th>\n",
       "      <th>sparsity</th>\n",
       "      <th>sparsity_all</th>\n",
       "      <th>characterization_score</th>\n",
       "    </tr>\n",
       "  </thead>\n",
       "  <tbody>\n",
       "    <tr>\n",
       "      <th>0</th>\n",
       "      <td>CoDy</td>\n",
       "      <td>random</td>\n",
       "      <td>0.965</td>\n",
       "      <td>0.310</td>\n",
       "      <td>0.042256</td>\n",
       "      <td>0.056235</td>\n",
       "      <td>0.469255</td>\n",
       "    </tr>\n",
       "    <tr>\n",
       "      <th>1</th>\n",
       "      <td>CoDy</td>\n",
       "      <td>recent</td>\n",
       "      <td>0.975</td>\n",
       "      <td>0.375</td>\n",
       "      <td>0.041025</td>\n",
       "      <td>0.049926</td>\n",
       "      <td>0.541667</td>\n",
       "    </tr>\n",
       "    <tr>\n",
       "      <th>2</th>\n",
       "      <td>CoDy</td>\n",
       "      <td>closest</td>\n",
       "      <td>0.965</td>\n",
       "      <td>0.255</td>\n",
       "      <td>0.053140</td>\n",
       "      <td>0.053561</td>\n",
       "      <td>0.403402</td>\n",
       "    </tr>\n",
       "    <tr>\n",
       "      <th>3</th>\n",
       "      <td>CoDy</td>\n",
       "      <td>1-best</td>\n",
       "      <td>0.950</td>\n",
       "      <td>0.405</td>\n",
       "      <td>0.043001</td>\n",
       "      <td>0.056176</td>\n",
       "      <td>0.567897</td>\n",
       "    </tr>\n",
       "    <tr>\n",
       "      <th>0</th>\n",
       "      <td>Greedy</td>\n",
       "      <td>random</td>\n",
       "      <td>0.985</td>\n",
       "      <td>0.065</td>\n",
       "      <td>0.028846</td>\n",
       "      <td>0.019502</td>\n",
       "      <td>0.121952</td>\n",
       "    </tr>\n",
       "    <tr>\n",
       "      <th>1</th>\n",
       "      <td>Greedy</td>\n",
       "      <td>recent</td>\n",
       "      <td>0.980</td>\n",
       "      <td>0.310</td>\n",
       "      <td>0.029486</td>\n",
       "      <td>0.034791</td>\n",
       "      <td>0.471008</td>\n",
       "    </tr>\n",
       "    <tr>\n",
       "      <th>2</th>\n",
       "      <td>Greedy</td>\n",
       "      <td>closest</td>\n",
       "      <td>0.985</td>\n",
       "      <td>0.015</td>\n",
       "      <td>0.020833</td>\n",
       "      <td>0.025731</td>\n",
       "      <td>0.029550</td>\n",
       "    </tr>\n",
       "    <tr>\n",
       "      <th>3</th>\n",
       "      <td>Greedy</td>\n",
       "      <td>1-best</td>\n",
       "      <td>0.985</td>\n",
       "      <td>0.265</td>\n",
       "      <td>0.020342</td>\n",
       "      <td>0.028330</td>\n",
       "      <td>0.417640</td>\n",
       "    </tr>\n",
       "    <tr>\n",
       "      <th>0</th>\n",
       "      <td>TGNNExplainer</td>\n",
       "      <td>-</td>\n",
       "      <td>0.720</td>\n",
       "      <td>0.275</td>\n",
       "      <td>0.324848</td>\n",
       "      <td>0.346601</td>\n",
       "      <td>0.397990</td>\n",
       "    </tr>\n",
       "  </tbody>\n",
       "</table>\n",
       "</div>"
      ],
      "text/plain": [
       "       Explainer Selection strategy  fidelity_plus  fidelity_minus  sparsity   \n",
       "0           CoDy             random          0.965           0.310  0.042256  \\\n",
       "1           CoDy             recent          0.975           0.375  0.041025   \n",
       "2           CoDy            closest          0.965           0.255  0.053140   \n",
       "3           CoDy             1-best          0.950           0.405  0.043001   \n",
       "0         Greedy             random          0.985           0.065  0.028846   \n",
       "1         Greedy             recent          0.980           0.310  0.029486   \n",
       "2         Greedy            closest          0.985           0.015  0.020833   \n",
       "3         Greedy             1-best          0.985           0.265  0.020342   \n",
       "0  TGNNExplainer                  -          0.720           0.275  0.324848   \n",
       "\n",
       "   sparsity_all  characterization_score  \n",
       "0      0.056235                0.469255  \n",
       "1      0.049926                0.541667  \n",
       "2      0.053561                0.403402  \n",
       "3      0.056176                0.567897  \n",
       "0      0.019502                0.121952  \n",
       "1      0.034791                0.471008  \n",
       "2      0.025731                0.029550  \n",
       "3      0.028330                0.417640  \n",
       "0      0.346601                0.397990  "
      ]
     },
     "execution_count": 18,
     "metadata": {},
     "output_type": "execute_result"
    }
   ],
   "source": [
    "wrong_predictions[['Explainer', 'Selection strategy', 'fidelity_plus', 'fidelity_minus', 'sparsity', 'sparsity_all', 'characterization_score']].to_csv('../tables/uci_wrong.csv')\n",
    "wrong_predictions[['Explainer', 'Selection strategy', 'fidelity_plus', 'fidelity_minus', 'sparsity', 'sparsity_all', 'characterization_score']]"
   ]
  },
  {
   "cell_type": "markdown",
   "id": "da7d4bdd-58d7-4266-8401-098335478a32",
   "metadata": {},
   "source": [
    "### 3.2. Export Scatter"
   ]
  },
  {
   "cell_type": "code",
   "execution_count": 25,
   "id": "0347aa65-c187-4a18-9c26-5bbae0c4b453",
   "metadata": {},
   "outputs": [],
   "source": [
    "correct_predictions['meta'] = ['a', 'b', 'c', 'd', 'e', 'f', 'g', 'h', 'i']\n",
    "wrong_predictions['meta'] = ['a', 'b', 'c', 'd', 'e', 'f', 'g', 'h', 'i']\n",
    "\n",
    "correct_predictions[['meta', 'fidelity_minus', 'fidelity_plus']].to_csv('../tables/uci_fid_correct.csv', index=None, header=['meta', 'fid_min', 'fid_pl'])\n",
    "wrong_predictions[['meta', 'fidelity_minus', 'fidelity_plus']].to_csv('../tables/uci_fid_wrong.csv', index=None, header=['meta', 'fid_min', 'fid_pl'])"
   ]
  },
  {
   "cell_type": "code",
   "execution_count": null,
   "id": "6d8b6a28-9285-4865-be62-7148d694f31e",
   "metadata": {},
   "outputs": [],
   "source": []
  },
  {
   "cell_type": "code",
   "execution_count": 26,
   "id": "6d9519e8-1d98-42a5-b961-edbc2ae69ad5",
   "metadata": {},
   "outputs": [],
   "source": [
    "correct_predictions['correct'] = True\n",
    "wrong_predictions['correct'] = False"
   ]
  },
  {
   "cell_type": "code",
   "execution_count": 27,
   "id": "a3b965e7-b3d8-4553-9ffd-d02b37d9d9e4",
   "metadata": {},
   "outputs": [],
   "source": [
    "pd.concat((correct_predictions, wrong_predictions)).to_excel('../tables/ucif_full.xlsx')"
   ]
  },
  {
   "cell_type": "code",
   "execution_count": 28,
   "id": "d8b15a03-a8bd-4a34-a7b6-44e8467b890a",
   "metadata": {},
   "outputs": [],
   "source": [
    "pd.concat((results_cody_1_best_w_e, tgnnexplainer_w_e, results_greedy_recent_w_e)).to_excel('../tables/ucif_expanded_wrong.xlsx')"
   ]
  },
  {
   "cell_type": "code",
   "execution_count": 29,
   "id": "de6224e9-0a3b-4579-8655-2beccfebd40b",
   "metadata": {},
   "outputs": [],
   "source": [
    "pd.concat((results_cody_1_best_e, tgnnexplainer_e, results_greedy_recent_e)).to_excel('../tables/ucif_expanded_correct.xlsx')"
   ]
  },
  {
   "cell_type": "code",
   "execution_count": null,
   "id": "08c3880c-6075-42e1-bbe9-d6956d703280",
   "metadata": {},
   "outputs": [],
   "source": []
  },
  {
   "cell_type": "code",
   "execution_count": null,
   "id": "ecc896cb-afd3-46b7-8541-22863f326036",
   "metadata": {},
   "outputs": [],
   "source": []
  },
  {
   "cell_type": "markdown",
   "id": "0f787090-e425-4721-8310-94a0504e66ae",
   "metadata": {},
   "source": [
    "### 3.3. Runtime Overview"
   ]
  },
  {
   "cell_type": "code",
   "execution_count": 30,
   "id": "ba7076a2-e6ca-41de-94b9-6752dd2d4500",
   "metadata": {},
   "outputs": [
    {
     "name": "stderr",
     "output_type": "stream",
     "text": [
      "/tmp/ipykernel_22963/1218401292.py:2: SettingWithCopyWarning: \n",
      "A value is trying to be set on a copy of a slice from a DataFrame.\n",
      "Try using .loc[row_indexer,col_indexer] = value instead\n",
      "\n",
      "See the caveats in the documentation: https://pandas.pydata.org/pandas-docs/stable/user_guide/indexing.html#returning-a-view-versus-a-copy\n",
      "  correct_runtime['oracle_calls_pct'] = correct_runtime['oracle calls (s)']/correct_runtime['Duration']\n",
      "/tmp/ipykernel_22963/1218401292.py:3: SettingWithCopyWarning: \n",
      "A value is trying to be set on a copy of a slice from a DataFrame.\n",
      "Try using .loc[row_indexer,col_indexer] = value instead\n",
      "\n",
      "See the caveats in the documentation: https://pandas.pydata.org/pandas-docs/stable/user_guide/indexing.html#returning-a-view-versus-a-copy\n",
      "  correct_runtime['explanation_pct'] = correct_runtime['explanation (s)']/correct_runtime['Duration']\n"
     ]
    }
   ],
   "source": [
    "correct_runtime = correct_predictions[['Explainer', 'Selection strategy', 'avg_oracle_calls', 'initialisation (s)', 'explanation (s)', 'oracle calls (s)', 'Duration']]\n",
    "correct_runtime['oracle_calls_pct'] = correct_runtime['oracle calls (s)']/correct_runtime['Duration']\n",
    "correct_runtime['explanation_pct'] = correct_runtime['explanation (s)']/correct_runtime['Duration']"
   ]
  },
  {
   "cell_type": "code",
   "execution_count": 31,
   "id": "da304ad8-c76a-42c7-8f4a-9ab23711b1e1",
   "metadata": {},
   "outputs": [
    {
     "data": {
      "text/html": [
       "<div>\n",
       "<style scoped>\n",
       "    .dataframe tbody tr th:only-of-type {\n",
       "        vertical-align: middle;\n",
       "    }\n",
       "\n",
       "    .dataframe tbody tr th {\n",
       "        vertical-align: top;\n",
       "    }\n",
       "\n",
       "    .dataframe thead th {\n",
       "        text-align: right;\n",
       "    }\n",
       "</style>\n",
       "<table border=\"1\" class=\"dataframe\">\n",
       "  <thead>\n",
       "    <tr style=\"text-align: right;\">\n",
       "      <th></th>\n",
       "      <th>Explainer</th>\n",
       "      <th>Selection strategy</th>\n",
       "      <th>avg_oracle_calls</th>\n",
       "      <th>initialisation (s)</th>\n",
       "      <th>explanation (s)</th>\n",
       "      <th>oracle calls (s)</th>\n",
       "      <th>Duration</th>\n",
       "      <th>oracle_calls_pct</th>\n",
       "      <th>explanation_pct</th>\n",
       "    </tr>\n",
       "  </thead>\n",
       "  <tbody>\n",
       "    <tr>\n",
       "      <th>0</th>\n",
       "      <td>CoDy</td>\n",
       "      <td>random</td>\n",
       "      <td>261.125</td>\n",
       "      <td>0.000972</td>\n",
       "      <td>0.462441</td>\n",
       "      <td>30.140449</td>\n",
       "      <td>30.602891</td>\n",
       "      <td>0.984889</td>\n",
       "      <td>0.015111</td>\n",
       "    </tr>\n",
       "    <tr>\n",
       "      <th>1</th>\n",
       "      <td>CoDy</td>\n",
       "      <td>recent</td>\n",
       "      <td>261.225</td>\n",
       "      <td>0.000656</td>\n",
       "      <td>0.728227</td>\n",
       "      <td>29.869874</td>\n",
       "      <td>30.598102</td>\n",
       "      <td>0.976200</td>\n",
       "      <td>0.023800</td>\n",
       "    </tr>\n",
       "    <tr>\n",
       "      <th>2</th>\n",
       "      <td>CoDy</td>\n",
       "      <td>closest</td>\n",
       "      <td>261.135</td>\n",
       "      <td>0.001724</td>\n",
       "      <td>3.859454</td>\n",
       "      <td>29.906573</td>\n",
       "      <td>33.766027</td>\n",
       "      <td>0.885700</td>\n",
       "      <td>0.114300</td>\n",
       "    </tr>\n",
       "    <tr>\n",
       "      <th>3</th>\n",
       "      <td>CoDy</td>\n",
       "      <td>1-best</td>\n",
       "      <td>312.000</td>\n",
       "      <td>0.061604</td>\n",
       "      <td>1.374776</td>\n",
       "      <td>35.995648</td>\n",
       "      <td>37.370424</td>\n",
       "      <td>0.963212</td>\n",
       "      <td>0.036788</td>\n",
       "    </tr>\n",
       "    <tr>\n",
       "      <th>0</th>\n",
       "      <td>Greedy</td>\n",
       "      <td>random</td>\n",
       "      <td>24.800</td>\n",
       "      <td>0.000093</td>\n",
       "      <td>0.004951</td>\n",
       "      <td>2.211229</td>\n",
       "      <td>2.216180</td>\n",
       "      <td>0.997766</td>\n",
       "      <td>0.002234</td>\n",
       "    </tr>\n",
       "    <tr>\n",
       "      <th>1</th>\n",
       "      <td>Greedy</td>\n",
       "      <td>recent</td>\n",
       "      <td>36.150</td>\n",
       "      <td>0.000093</td>\n",
       "      <td>0.006790</td>\n",
       "      <td>2.753260</td>\n",
       "      <td>2.760051</td>\n",
       "      <td>0.997540</td>\n",
       "      <td>0.002460</td>\n",
       "    </tr>\n",
       "    <tr>\n",
       "      <th>2</th>\n",
       "      <td>Greedy</td>\n",
       "      <td>closest</td>\n",
       "      <td>24.250</td>\n",
       "      <td>0.000092</td>\n",
       "      <td>0.006074</td>\n",
       "      <td>1.723865</td>\n",
       "      <td>1.729939</td>\n",
       "      <td>0.996489</td>\n",
       "      <td>0.003511</td>\n",
       "    </tr>\n",
       "    <tr>\n",
       "      <th>3</th>\n",
       "      <td>Greedy</td>\n",
       "      <td>1-best</td>\n",
       "      <td>88.100</td>\n",
       "      <td>4.161968</td>\n",
       "      <td>0.025264</td>\n",
       "      <td>8.338679</td>\n",
       "      <td>8.363943</td>\n",
       "      <td>0.996979</td>\n",
       "      <td>0.003021</td>\n",
       "    </tr>\n",
       "    <tr>\n",
       "      <th>0</th>\n",
       "      <td>TGNNExplainer</td>\n",
       "      <td>-</td>\n",
       "      <td>13726.215</td>\n",
       "      <td>0.045174</td>\n",
       "      <td>15.286912</td>\n",
       "      <td>78.976520</td>\n",
       "      <td>94.308606</td>\n",
       "      <td>0.837426</td>\n",
       "      <td>0.162095</td>\n",
       "    </tr>\n",
       "  </tbody>\n",
       "</table>\n",
       "</div>"
      ],
      "text/plain": [
       "       Explainer Selection strategy  avg_oracle_calls  initialisation (s)   \n",
       "0           CoDy             random           261.125            0.000972  \\\n",
       "1           CoDy             recent           261.225            0.000656   \n",
       "2           CoDy            closest           261.135            0.001724   \n",
       "3           CoDy             1-best           312.000            0.061604   \n",
       "0         Greedy             random            24.800            0.000093   \n",
       "1         Greedy             recent            36.150            0.000093   \n",
       "2         Greedy            closest            24.250            0.000092   \n",
       "3         Greedy             1-best            88.100            4.161968   \n",
       "0  TGNNExplainer                  -         13726.215            0.045174   \n",
       "\n",
       "   explanation (s)  oracle calls (s)   Duration  oracle_calls_pct   \n",
       "0         0.462441         30.140449  30.602891          0.984889  \\\n",
       "1         0.728227         29.869874  30.598102          0.976200   \n",
       "2         3.859454         29.906573  33.766027          0.885700   \n",
       "3         1.374776         35.995648  37.370424          0.963212   \n",
       "0         0.004951          2.211229   2.216180          0.997766   \n",
       "1         0.006790          2.753260   2.760051          0.997540   \n",
       "2         0.006074          1.723865   1.729939          0.996489   \n",
       "3         0.025264          8.338679   8.363943          0.996979   \n",
       "0        15.286912         78.976520  94.308606          0.837426   \n",
       "\n",
       "   explanation_pct  \n",
       "0         0.015111  \n",
       "1         0.023800  \n",
       "2         0.114300  \n",
       "3         0.036788  \n",
       "0         0.002234  \n",
       "1         0.002460  \n",
       "2         0.003511  \n",
       "3         0.003021  \n",
       "0         0.162095  "
      ]
     },
     "execution_count": 31,
     "metadata": {},
     "output_type": "execute_result"
    }
   ],
   "source": [
    "correct_runtime"
   ]
  },
  {
   "cell_type": "code",
   "execution_count": 32,
   "id": "980634e4-40d5-4882-a12c-6e7292e83eff",
   "metadata": {},
   "outputs": [
    {
     "name": "stderr",
     "output_type": "stream",
     "text": [
      "/tmp/ipykernel_22963/3751994185.py:2: SettingWithCopyWarning: \n",
      "A value is trying to be set on a copy of a slice from a DataFrame.\n",
      "Try using .loc[row_indexer,col_indexer] = value instead\n",
      "\n",
      "See the caveats in the documentation: https://pandas.pydata.org/pandas-docs/stable/user_guide/indexing.html#returning-a-view-versus-a-copy\n",
      "  wrong_runtime['oracle_calls_pct'] = wrong_runtime['oracle calls (s)']/wrong_runtime['Duration']\n",
      "/tmp/ipykernel_22963/3751994185.py:3: SettingWithCopyWarning: \n",
      "A value is trying to be set on a copy of a slice from a DataFrame.\n",
      "Try using .loc[row_indexer,col_indexer] = value instead\n",
      "\n",
      "See the caveats in the documentation: https://pandas.pydata.org/pandas-docs/stable/user_guide/indexing.html#returning-a-view-versus-a-copy\n",
      "  wrong_runtime['explanation_pct'] = wrong_runtime['explanation (s)']/wrong_runtime['Duration']\n"
     ]
    }
   ],
   "source": [
    "wrong_runtime = wrong_predictions[['Explainer', 'Selection strategy', 'avg_oracle_calls', 'initialisation (s)', 'explanation (s)', 'oracle calls (s)', 'Duration']]\n",
    "wrong_runtime['oracle_calls_pct'] = wrong_runtime['oracle calls (s)']/wrong_runtime['Duration']\n",
    "wrong_runtime['explanation_pct'] = wrong_runtime['explanation (s)']/wrong_runtime['Duration']"
   ]
  },
  {
   "cell_type": "code",
   "execution_count": 38,
   "id": "dcae954b-78de-41c0-a68f-17053b49d7b8",
   "metadata": {},
   "outputs": [
    {
     "data": {
      "text/html": [
       "<div>\n",
       "<style scoped>\n",
       "    .dataframe tbody tr th:only-of-type {\n",
       "        vertical-align: middle;\n",
       "    }\n",
       "\n",
       "    .dataframe tbody tr th {\n",
       "        vertical-align: top;\n",
       "    }\n",
       "\n",
       "    .dataframe thead th {\n",
       "        text-align: right;\n",
       "    }\n",
       "</style>\n",
       "<table border=\"1\" class=\"dataframe\">\n",
       "  <thead>\n",
       "    <tr style=\"text-align: right;\">\n",
       "      <th></th>\n",
       "      <th>Explainer</th>\n",
       "      <th>Selection strategy</th>\n",
       "      <th>avg_oracle_calls</th>\n",
       "      <th>initialisation (s)</th>\n",
       "      <th>explanation (s)</th>\n",
       "      <th>oracle calls (s)</th>\n",
       "      <th>Duration</th>\n",
       "      <th>oracle_calls_pct</th>\n",
       "      <th>explanation_pct</th>\n",
       "    </tr>\n",
       "  </thead>\n",
       "  <tbody>\n",
       "    <tr>\n",
       "      <th>0</th>\n",
       "      <td>CoDy</td>\n",
       "      <td>random</td>\n",
       "      <td>257.255</td>\n",
       "      <td>0.001266</td>\n",
       "      <td>0.430622</td>\n",
       "      <td>38.022119</td>\n",
       "      <td>38.452741</td>\n",
       "      <td>0.988801</td>\n",
       "      <td>0.011199</td>\n",
       "    </tr>\n",
       "    <tr>\n",
       "      <th>1</th>\n",
       "      <td>CoDy</td>\n",
       "      <td>recent</td>\n",
       "      <td>256.305</td>\n",
       "      <td>0.000662</td>\n",
       "      <td>0.597000</td>\n",
       "      <td>38.144586</td>\n",
       "      <td>38.741586</td>\n",
       "      <td>0.984590</td>\n",
       "      <td>0.015410</td>\n",
       "    </tr>\n",
       "    <tr>\n",
       "      <th>2</th>\n",
       "      <td>CoDy</td>\n",
       "      <td>closest</td>\n",
       "      <td>257.830</td>\n",
       "      <td>0.002381</td>\n",
       "      <td>1.025481</td>\n",
       "      <td>37.670303</td>\n",
       "      <td>38.695783</td>\n",
       "      <td>0.973499</td>\n",
       "      <td>0.026501</td>\n",
       "    </tr>\n",
       "    <tr>\n",
       "      <th>3</th>\n",
       "      <td>CoDy</td>\n",
       "      <td>1-best</td>\n",
       "      <td>305.695</td>\n",
       "      <td>0.069331</td>\n",
       "      <td>0.879864</td>\n",
       "      <td>47.184990</td>\n",
       "      <td>48.064854</td>\n",
       "      <td>0.981694</td>\n",
       "      <td>0.018306</td>\n",
       "    </tr>\n",
       "    <tr>\n",
       "      <th>0</th>\n",
       "      <td>Greedy</td>\n",
       "      <td>random</td>\n",
       "      <td>21.800</td>\n",
       "      <td>0.000096</td>\n",
       "      <td>0.004715</td>\n",
       "      <td>2.613382</td>\n",
       "      <td>2.618096</td>\n",
       "      <td>0.998199</td>\n",
       "      <td>0.001801</td>\n",
       "    </tr>\n",
       "    <tr>\n",
       "      <th>1</th>\n",
       "      <td>Greedy</td>\n",
       "      <td>recent</td>\n",
       "      <td>29.150</td>\n",
       "      <td>0.000096</td>\n",
       "      <td>0.005850</td>\n",
       "      <td>3.086965</td>\n",
       "      <td>3.092814</td>\n",
       "      <td>0.998109</td>\n",
       "      <td>0.001891</td>\n",
       "    </tr>\n",
       "    <tr>\n",
       "      <th>2</th>\n",
       "      <td>Greedy</td>\n",
       "      <td>closest</td>\n",
       "      <td>26.300</td>\n",
       "      <td>0.000096</td>\n",
       "      <td>0.006964</td>\n",
       "      <td>2.640528</td>\n",
       "      <td>2.647492</td>\n",
       "      <td>0.997370</td>\n",
       "      <td>0.002630</td>\n",
       "    </tr>\n",
       "    <tr>\n",
       "      <th>3</th>\n",
       "      <td>Greedy</td>\n",
       "      <td>1-best</td>\n",
       "      <td>78.145</td>\n",
       "      <td>5.385983</td>\n",
       "      <td>0.024024</td>\n",
       "      <td>9.798720</td>\n",
       "      <td>9.822744</td>\n",
       "      <td>0.997554</td>\n",
       "      <td>0.002446</td>\n",
       "    </tr>\n",
       "    <tr>\n",
       "      <th>0</th>\n",
       "      <td>TGNNExplainer</td>\n",
       "      <td>-</td>\n",
       "      <td>13667.660</td>\n",
       "      <td>0.064283</td>\n",
       "      <td>15.024532</td>\n",
       "      <td>76.792728</td>\n",
       "      <td>91.881544</td>\n",
       "      <td>0.835780</td>\n",
       "      <td>0.163521</td>\n",
       "    </tr>\n",
       "  </tbody>\n",
       "</table>\n",
       "</div>"
      ],
      "text/plain": [
       "       Explainer Selection strategy  avg_oracle_calls  initialisation (s)   \n",
       "0           CoDy             random           257.255            0.001266  \\\n",
       "1           CoDy             recent           256.305            0.000662   \n",
       "2           CoDy            closest           257.830            0.002381   \n",
       "3           CoDy             1-best           305.695            0.069331   \n",
       "0         Greedy             random            21.800            0.000096   \n",
       "1         Greedy             recent            29.150            0.000096   \n",
       "2         Greedy            closest            26.300            0.000096   \n",
       "3         Greedy             1-best            78.145            5.385983   \n",
       "0  TGNNExplainer                  -         13667.660            0.064283   \n",
       "\n",
       "   explanation (s)  oracle calls (s)   Duration  oracle_calls_pct   \n",
       "0         0.430622         38.022119  38.452741          0.988801  \\\n",
       "1         0.597000         38.144586  38.741586          0.984590   \n",
       "2         1.025481         37.670303  38.695783          0.973499   \n",
       "3         0.879864         47.184990  48.064854          0.981694   \n",
       "0         0.004715          2.613382   2.618096          0.998199   \n",
       "1         0.005850          3.086965   3.092814          0.998109   \n",
       "2         0.006964          2.640528   2.647492          0.997370   \n",
       "3         0.024024          9.798720   9.822744          0.997554   \n",
       "0        15.024532         76.792728  91.881544          0.835780   \n",
       "\n",
       "   explanation_pct  \n",
       "0         0.011199  \n",
       "1         0.015410  \n",
       "2         0.026501  \n",
       "3         0.018306  \n",
       "0         0.001801  \n",
       "1         0.001891  \n",
       "2         0.002630  \n",
       "3         0.002446  \n",
       "0         0.163521  "
      ]
     },
     "execution_count": 38,
     "metadata": {},
     "output_type": "execute_result"
    }
   ],
   "source": [
    "wrong_runtime"
   ]
  },
  {
   "cell_type": "code",
   "execution_count": 39,
   "id": "b1ab1f7e-e3a6-4d66-b110-c748018d6acc",
   "metadata": {},
   "outputs": [
    {
     "data": {
      "text/html": [
       "<div>\n",
       "<style scoped>\n",
       "    .dataframe tbody tr th:only-of-type {\n",
       "        vertical-align: middle;\n",
       "    }\n",
       "\n",
       "    .dataframe tbody tr th {\n",
       "        vertical-align: top;\n",
       "    }\n",
       "\n",
       "    .dataframe thead th {\n",
       "        text-align: right;\n",
       "    }\n",
       "</style>\n",
       "<table border=\"1\" class=\"dataframe\">\n",
       "  <thead>\n",
       "    <tr style=\"text-align: right;\">\n",
       "      <th></th>\n",
       "      <th>sparsity</th>\n",
       "      <th>explanation rate</th>\n",
       "      <th>Explainer</th>\n",
       "      <th>Selection strategy</th>\n",
       "    </tr>\n",
       "  </thead>\n",
       "  <tbody>\n",
       "    <tr>\n",
       "      <th>0</th>\n",
       "      <td>0.015615</td>\n",
       "      <td>0.000</td>\n",
       "      <td>CoDy</td>\n",
       "      <td>1-best</td>\n",
       "    </tr>\n",
       "    <tr>\n",
       "      <th>1</th>\n",
       "      <td>0.015625</td>\n",
       "      <td>0.170</td>\n",
       "      <td>CoDy</td>\n",
       "      <td>1-best</td>\n",
       "    </tr>\n",
       "    <tr>\n",
       "      <th>2</th>\n",
       "      <td>0.031250</td>\n",
       "      <td>0.275</td>\n",
       "      <td>CoDy</td>\n",
       "      <td>1-best</td>\n",
       "    </tr>\n",
       "    <tr>\n",
       "      <th>3</th>\n",
       "      <td>0.046875</td>\n",
       "      <td>0.325</td>\n",
       "      <td>CoDy</td>\n",
       "      <td>1-best</td>\n",
       "    </tr>\n",
       "    <tr>\n",
       "      <th>4</th>\n",
       "      <td>0.062500</td>\n",
       "      <td>0.350</td>\n",
       "      <td>CoDy</td>\n",
       "      <td>1-best</td>\n",
       "    </tr>\n",
       "    <tr>\n",
       "      <th>5</th>\n",
       "      <td>0.078125</td>\n",
       "      <td>0.370</td>\n",
       "      <td>CoDy</td>\n",
       "      <td>1-best</td>\n",
       "    </tr>\n",
       "    <tr>\n",
       "      <th>6</th>\n",
       "      <td>0.125000</td>\n",
       "      <td>0.375</td>\n",
       "      <td>CoDy</td>\n",
       "      <td>1-best</td>\n",
       "    </tr>\n",
       "    <tr>\n",
       "      <th>7</th>\n",
       "      <td>0.156250</td>\n",
       "      <td>0.380</td>\n",
       "      <td>CoDy</td>\n",
       "      <td>1-best</td>\n",
       "    </tr>\n",
       "    <tr>\n",
       "      <th>8</th>\n",
       "      <td>0.234375</td>\n",
       "      <td>0.385</td>\n",
       "      <td>CoDy</td>\n",
       "      <td>1-best</td>\n",
       "    </tr>\n",
       "    <tr>\n",
       "      <th>9</th>\n",
       "      <td>0.640625</td>\n",
       "      <td>0.390</td>\n",
       "      <td>CoDy</td>\n",
       "      <td>1-best</td>\n",
       "    </tr>\n",
       "    <tr>\n",
       "      <th>10</th>\n",
       "      <td>0.921875</td>\n",
       "      <td>0.400</td>\n",
       "      <td>CoDy</td>\n",
       "      <td>1-best</td>\n",
       "    </tr>\n",
       "    <tr>\n",
       "      <th>11</th>\n",
       "      <td>1.000000</td>\n",
       "      <td>0.400</td>\n",
       "      <td>CoDy</td>\n",
       "      <td>1-best</td>\n",
       "    </tr>\n",
       "  </tbody>\n",
       "</table>\n",
       "</div>"
      ],
      "text/plain": [
       "    sparsity  explanation rate Explainer Selection strategy\n",
       "0   0.015615             0.000      CoDy             1-best\n",
       "1   0.015625             0.170      CoDy             1-best\n",
       "2   0.031250             0.275      CoDy             1-best\n",
       "3   0.046875             0.325      CoDy             1-best\n",
       "4   0.062500             0.350      CoDy             1-best\n",
       "5   0.078125             0.370      CoDy             1-best\n",
       "6   0.125000             0.375      CoDy             1-best\n",
       "7   0.156250             0.380      CoDy             1-best\n",
       "8   0.234375             0.385      CoDy             1-best\n",
       "9   0.640625             0.390      CoDy             1-best\n",
       "10  0.921875             0.400      CoDy             1-best\n",
       "11  1.000000             0.400      CoDy             1-best"
      ]
     },
     "execution_count": 39,
     "metadata": {},
     "output_type": "execute_result"
    }
   ],
   "source": [
    "results_cody_1_best_e"
   ]
  },
  {
   "cell_type": "code",
   "execution_count": null,
   "id": "4c30377a-d70e-4c38-a1ac-e1908b6334b3",
   "metadata": {},
   "outputs": [],
   "source": []
  }
 ],
 "metadata": {
  "kernelspec": {
   "display_name": "Python 3 (ipykernel)",
   "language": "python",
   "name": "python3"
  },
  "language_info": {
   "codemirror_mode": {
    "name": "ipython",
    "version": 3
   },
   "file_extension": ".py",
   "mimetype": "text/x-python",
   "name": "python",
   "nbconvert_exporter": "python",
   "pygments_lexer": "ipython3",
   "version": "3.9.18"
  }
 },
 "nbformat": 4,
 "nbformat_minor": 5
}
