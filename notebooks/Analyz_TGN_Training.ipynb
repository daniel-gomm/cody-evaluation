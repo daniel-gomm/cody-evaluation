{
 "cells": [
  {
   "cell_type": "code",
   "execution_count": null,
   "id": "44621739-97ec-4c38-ad5d-9d03cb576653",
   "metadata": {
    "tags": []
   },
   "outputs": [],
   "source": [
    "import numpy as np\n",
    "import pandas as pd"
   ]
  },
  {
   "cell_type": "code",
   "execution_count": 3,
   "id": "b2154fe8-590e-40f2-8b4d-948c9fb7aaea",
   "metadata": {
    "tags": []
   },
   "outputs": [],
   "source": [
    "uci = pd.read_csv('/home/daniel/kit/master-thesis/CFTGNNExplainer/resources/datasets/raw/uci.csv')"
   ]
  },
  {
   "cell_type": "code",
   "execution_count": 6,
   "id": "1c38eabd-4d20-4695-bd65-722e8e1ba458",
   "metadata": {
    "tags": []
   },
   "outputs": [
    {
     "data": {
      "text/html": [
       "<div>\n",
       "<style scoped>\n",
       "    .dataframe tbody tr th:only-of-type {\n",
       "        vertical-align: middle;\n",
       "    }\n",
       "\n",
       "    .dataframe tbody tr th {\n",
       "        vertical-align: top;\n",
       "    }\n",
       "\n",
       "    .dataframe thead th {\n",
       "        text-align: right;\n",
       "    }\n",
       "</style>\n",
       "<table border=\"1\" class=\"dataframe\">\n",
       "  <thead>\n",
       "    <tr style=\"text-align: right;\">\n",
       "      <th></th>\n",
       "      <th>item_id</th>\n",
       "      <th>user_id</th>\n",
       "      <th>timestamp</th>\n",
       "      <th>state_label</th>\n",
       "    </tr>\n",
       "  </thead>\n",
       "  <tbody>\n",
       "    <tr>\n",
       "      <th>0</th>\n",
       "      <td>1</td>\n",
       "      <td>523</td>\n",
       "      <td>1084560796</td>\n",
       "      <td>1</td>\n",
       "    </tr>\n",
       "    <tr>\n",
       "      <th>1</th>\n",
       "      <td>1</td>\n",
       "      <td>524</td>\n",
       "      <td>1084560848</td>\n",
       "      <td>1</td>\n",
       "    </tr>\n",
       "    <tr>\n",
       "      <th>2</th>\n",
       "      <td>2</td>\n",
       "      <td>525</td>\n",
       "      <td>1084560940</td>\n",
       "      <td>1</td>\n",
       "    </tr>\n",
       "  </tbody>\n",
       "</table>\n",
       "</div>"
      ],
      "text/plain": [
       "   item_id  user_id   timestamp  state_label\n",
       "0        1      523  1084560796            1\n",
       "1        1      524  1084560848            1\n",
       "2        2      525  1084560940            1"
      ]
     },
     "execution_count": 6,
     "metadata": {},
     "output_type": "execute_result"
    }
   ],
   "source": [
    "uci.head(3)"
   ]
  },
  {
   "cell_type": "code",
   "execution_count": 5,
   "id": "6dd47aec-ff7d-4f09-8b5b-0e2308d7d4f2",
   "metadata": {
    "tags": []
   },
   "outputs": [],
   "source": [
    "uci['user_id'] = uci['user_id'] + uci['item_id'].max()"
   ]
  },
  {
   "cell_type": "code",
   "execution_count": 14,
   "id": "42c35354-3c1a-466c-93dd-32e7ab47b60a",
   "metadata": {
    "tags": []
   },
   "outputs": [],
   "source": [
    "edge_hashes = set()\n",
    "\n",
    "for index, row in uci.iterrows():\n",
    "    edge_hashes.add(f'{str(row[\"item_id\"])}-{str(row[\"user_id\"])}')"
   ]
  },
  {
   "cell_type": "code",
   "execution_count": 18,
   "id": "092df1d9-e53e-466f-b43e-2e547ec5b707",
   "metadata": {
    "tags": []
   },
   "outputs": [],
   "source": [
    "total_time = uci['timestamp'].max() - uci['timestamp'].min()"
   ]
  },
  {
   "cell_type": "code",
   "execution_count": 16,
   "id": "55088f36-df63-4e0e-9119-0bc73082c885",
   "metadata": {
    "tags": []
   },
   "outputs": [
    {
     "data": {
      "text/plain": [
       "7089"
      ]
     },
     "execution_count": 16,
     "metadata": {},
     "output_type": "execute_result"
    }
   ],
   "source": [
    "len(edge_hashes)"
   ]
  },
  {
   "cell_type": "code",
   "execution_count": 19,
   "id": "9eb3d22a-fc60-43ae-aa76-70d60c281188",
   "metadata": {
    "tags": []
   },
   "outputs": [
    {
     "data": {
      "text/plain": [
       "164.49195601851852"
      ]
     },
     "execution_count": 19,
     "metadata": {},
     "output_type": "execute_result"
    }
   ],
   "source": [
    "total_time / (24*3600)"
   ]
  },
  {
   "cell_type": "code",
   "execution_count": 27,
   "id": "96aafaf2-4d76-43d6-a280-0a3763406b38",
   "metadata": {
    "tags": []
   },
   "outputs": [
    {
     "data": {
      "text/html": [
       "<div>\n",
       "<style scoped>\n",
       "    .dataframe tbody tr th:only-of-type {\n",
       "        vertical-align: middle;\n",
       "    }\n",
       "\n",
       "    .dataframe tbody tr th {\n",
       "        vertical-align: top;\n",
       "    }\n",
       "\n",
       "    .dataframe thead th {\n",
       "        text-align: right;\n",
       "    }\n",
       "</style>\n",
       "<table border=\"1\" class=\"dataframe\">\n",
       "  <thead>\n",
       "    <tr style=\"text-align: right;\">\n",
       "      <th></th>\n",
       "      <th>timestamp</th>\n",
       "      <th>item_id</th>\n",
       "      <th>user_id</th>\n",
       "      <th>weight</th>\n",
       "    </tr>\n",
       "  </thead>\n",
       "  <tbody>\n",
       "    <tr>\n",
       "      <th>0</th>\n",
       "      <td>2004-03-23 20:11:55</td>\n",
       "      <td>3</td>\n",
       "      <td>3</td>\n",
       "      <td>1</td>\n",
       "    </tr>\n",
       "    <tr>\n",
       "      <th>1</th>\n",
       "      <td>2004-03-23 20:12:20</td>\n",
       "      <td>1</td>\n",
       "      <td>1</td>\n",
       "      <td>1</td>\n",
       "    </tr>\n",
       "    <tr>\n",
       "      <th>2</th>\n",
       "      <td>2004-03-31 02:20:04</td>\n",
       "      <td>15</td>\n",
       "      <td>15</td>\n",
       "      <td>1</td>\n",
       "    </tr>\n",
       "  </tbody>\n",
       "</table>\n",
       "</div>"
      ],
      "text/plain": [
       "             timestamp  item_id  user_id  weight\n",
       "0  2004-03-23 20:11:55        3        3       1\n",
       "1  2004-03-23 20:12:20        1        1       1\n",
       "2  2004-03-31 02:20:04       15       15       1"
      ]
     },
     "execution_count": 27,
     "metadata": {},
     "output_type": "execute_result"
    }
   ],
   "source": [
    "uci_m = pd.read_csv('/home/daniel/Downloads/UCI-Messages.txt', sep=' ', header=None)\n",
    "uci_m.columns = ['timestamp', 'item_id', 'user_id', 'weight']\n",
    "uci_m.head(3)"
   ]
  },
  {
   "cell_type": "code",
   "execution_count": 31,
   "id": "cf001590-4e67-4fe3-a446-7f8de385e6b5",
   "metadata": {
    "tags": []
   },
   "outputs": [
    {
     "data": {
      "text/html": [
       "<div>\n",
       "<style scoped>\n",
       "    .dataframe tbody tr th:only-of-type {\n",
       "        vertical-align: middle;\n",
       "    }\n",
       "\n",
       "    .dataframe tbody tr th {\n",
       "        vertical-align: top;\n",
       "    }\n",
       "\n",
       "    .dataframe thead th {\n",
       "        text-align: right;\n",
       "    }\n",
       "</style>\n",
       "<table border=\"1\" class=\"dataframe\">\n",
       "  <thead>\n",
       "    <tr style=\"text-align: right;\">\n",
       "      <th></th>\n",
       "      <th>timestamp</th>\n",
       "      <th>item_id</th>\n",
       "      <th>user_id</th>\n",
       "      <th>weight</th>\n",
       "    </tr>\n",
       "  </thead>\n",
       "  <tbody>\n",
       "    <tr>\n",
       "      <th>5</th>\n",
       "      <td>2004-04-15 07:56:01</td>\n",
       "      <td>1</td>\n",
       "      <td>2</td>\n",
       "      <td>157</td>\n",
       "    </tr>\n",
       "    <tr>\n",
       "      <th>7</th>\n",
       "      <td>2004-04-16 15:50:39</td>\n",
       "      <td>3</td>\n",
       "      <td>4</td>\n",
       "      <td>178</td>\n",
       "    </tr>\n",
       "    <tr>\n",
       "      <th>14</th>\n",
       "      <td>2004-04-19 15:39:51</td>\n",
       "      <td>5</td>\n",
       "      <td>2</td>\n",
       "      <td>66</td>\n",
       "    </tr>\n",
       "    <tr>\n",
       "      <th>51</th>\n",
       "      <td>2004-04-19 22:40:19</td>\n",
       "      <td>6</td>\n",
       "      <td>7</td>\n",
       "      <td>222</td>\n",
       "    </tr>\n",
       "    <tr>\n",
       "      <th>53</th>\n",
       "      <td>2004-04-19 22:42:36</td>\n",
       "      <td>8</td>\n",
       "      <td>7</td>\n",
       "      <td>20</td>\n",
       "    </tr>\n",
       "    <tr>\n",
       "      <th>...</th>\n",
       "      <td>...</td>\n",
       "      <td>...</td>\n",
       "      <td>...</td>\n",
       "      <td>...</td>\n",
       "    </tr>\n",
       "    <tr>\n",
       "      <th>61729</th>\n",
       "      <td>2004-10-26 00:44:08</td>\n",
       "      <td>1899</td>\n",
       "      <td>1847</td>\n",
       "      <td>147</td>\n",
       "    </tr>\n",
       "    <tr>\n",
       "      <th>61730</th>\n",
       "      <td>2004-10-26 00:47:16</td>\n",
       "      <td>1899</td>\n",
       "      <td>1097</td>\n",
       "      <td>149</td>\n",
       "    </tr>\n",
       "    <tr>\n",
       "      <th>61731</th>\n",
       "      <td>2004-10-26 00:50:03</td>\n",
       "      <td>1899</td>\n",
       "      <td>277</td>\n",
       "      <td>94</td>\n",
       "    </tr>\n",
       "    <tr>\n",
       "      <th>61732</th>\n",
       "      <td>2004-10-26 00:51:51</td>\n",
       "      <td>1878</td>\n",
       "      <td>1624</td>\n",
       "      <td>108</td>\n",
       "    </tr>\n",
       "    <tr>\n",
       "      <th>61733</th>\n",
       "      <td>2004-10-26 00:52:22</td>\n",
       "      <td>1878</td>\n",
       "      <td>1624</td>\n",
       "      <td>108</td>\n",
       "    </tr>\n",
       "  </tbody>\n",
       "</table>\n",
       "<p>59835 rows × 4 columns</p>\n",
       "</div>"
      ],
      "text/plain": [
       "                 timestamp  item_id  user_id  weight\n",
       "5      2004-04-15 07:56:01        1        2     157\n",
       "7      2004-04-16 15:50:39        3        4     178\n",
       "14     2004-04-19 15:39:51        5        2      66\n",
       "51     2004-04-19 22:40:19        6        7     222\n",
       "53     2004-04-19 22:42:36        8        7      20\n",
       "...                    ...      ...      ...     ...\n",
       "61729  2004-10-26 00:44:08     1899     1847     147\n",
       "61730  2004-10-26 00:47:16     1899     1097     149\n",
       "61731  2004-10-26 00:50:03     1899      277      94\n",
       "61732  2004-10-26 00:51:51     1878     1624     108\n",
       "61733  2004-10-26 00:52:22     1878     1624     108\n",
       "\n",
       "[59835 rows x 4 columns]"
      ]
     },
     "execution_count": 31,
     "metadata": {},
     "output_type": "execute_result"
    }
   ],
   "source": [
    "uci_m[uci_m['item_id'] != uci_m['user_id']]"
   ]
  },
  {
   "cell_type": "code",
   "execution_count": 32,
   "id": "9689272f-4b11-41b6-a9e8-91eff9fcabe3",
   "metadata": {
    "tags": []
   },
   "outputs": [
    {
     "data": {
      "text/html": [
       "<div>\n",
       "<style scoped>\n",
       "    .dataframe tbody tr th:only-of-type {\n",
       "        vertical-align: middle;\n",
       "    }\n",
       "\n",
       "    .dataframe tbody tr th {\n",
       "        vertical-align: top;\n",
       "    }\n",
       "\n",
       "    .dataframe thead th {\n",
       "        text-align: right;\n",
       "    }\n",
       "</style>\n",
       "<table border=\"1\" class=\"dataframe\">\n",
       "  <thead>\n",
       "    <tr style=\"text-align: right;\">\n",
       "      <th></th>\n",
       "      <th>timestamp</th>\n",
       "      <th>item_id</th>\n",
       "      <th>user_id</th>\n",
       "      <th>weight</th>\n",
       "    </tr>\n",
       "  </thead>\n",
       "  <tbody>\n",
       "    <tr>\n",
       "      <th>0</th>\n",
       "      <td>2004-03-23 20:11:55</td>\n",
       "      <td>3</td>\n",
       "      <td>3</td>\n",
       "      <td>1</td>\n",
       "    </tr>\n",
       "    <tr>\n",
       "      <th>1</th>\n",
       "      <td>2004-03-23 20:12:20</td>\n",
       "      <td>1</td>\n",
       "      <td>1</td>\n",
       "      <td>1</td>\n",
       "    </tr>\n",
       "    <tr>\n",
       "      <th>2</th>\n",
       "      <td>2004-03-31 02:20:04</td>\n",
       "      <td>15</td>\n",
       "      <td>15</td>\n",
       "      <td>1</td>\n",
       "    </tr>\n",
       "    <tr>\n",
       "      <th>3</th>\n",
       "      <td>2004-04-07 14:33:48</td>\n",
       "      <td>141</td>\n",
       "      <td>141</td>\n",
       "      <td>1</td>\n",
       "    </tr>\n",
       "    <tr>\n",
       "      <th>4</th>\n",
       "      <td>2004-04-15 02:08:31</td>\n",
       "      <td>2</td>\n",
       "      <td>2</td>\n",
       "      <td>1</td>\n",
       "    </tr>\n",
       "    <tr>\n",
       "      <th>...</th>\n",
       "      <td>...</td>\n",
       "      <td>...</td>\n",
       "      <td>...</td>\n",
       "      <td>...</td>\n",
       "    </tr>\n",
       "    <tr>\n",
       "      <th>61475</th>\n",
       "      <td>2004-10-15 21:50:16</td>\n",
       "      <td>1894</td>\n",
       "      <td>1894</td>\n",
       "      <td>1</td>\n",
       "    </tr>\n",
       "    <tr>\n",
       "      <th>61614</th>\n",
       "      <td>2004-10-21 21:33:10</td>\n",
       "      <td>1896</td>\n",
       "      <td>1896</td>\n",
       "      <td>1</td>\n",
       "    </tr>\n",
       "    <tr>\n",
       "      <th>61621</th>\n",
       "      <td>2004-10-21 22:19:20</td>\n",
       "      <td>1897</td>\n",
       "      <td>1897</td>\n",
       "      <td>1</td>\n",
       "    </tr>\n",
       "    <tr>\n",
       "      <th>61635</th>\n",
       "      <td>2004-10-22 01:28:40</td>\n",
       "      <td>1898</td>\n",
       "      <td>1898</td>\n",
       "      <td>1</td>\n",
       "    </tr>\n",
       "    <tr>\n",
       "      <th>61669</th>\n",
       "      <td>2004-10-24 15:54:28</td>\n",
       "      <td>1899</td>\n",
       "      <td>1899</td>\n",
       "      <td>1</td>\n",
       "    </tr>\n",
       "  </tbody>\n",
       "</table>\n",
       "<p>1899 rows × 4 columns</p>\n",
       "</div>"
      ],
      "text/plain": [
       "                 timestamp  item_id  user_id  weight\n",
       "0      2004-03-23 20:11:55        3        3       1\n",
       "1      2004-03-23 20:12:20        1        1       1\n",
       "2      2004-03-31 02:20:04       15       15       1\n",
       "3      2004-04-07 14:33:48      141      141       1\n",
       "4      2004-04-15 02:08:31        2        2       1\n",
       "...                    ...      ...      ...     ...\n",
       "61475  2004-10-15 21:50:16     1894     1894       1\n",
       "61614  2004-10-21 21:33:10     1896     1896       1\n",
       "61621  2004-10-21 22:19:20     1897     1897       1\n",
       "61635  2004-10-22 01:28:40     1898     1898       1\n",
       "61669  2004-10-24 15:54:28     1899     1899       1\n",
       "\n",
       "[1899 rows x 4 columns]"
      ]
     },
     "execution_count": 32,
     "metadata": {},
     "output_type": "execute_result"
    }
   ],
   "source": [
    "uci_m[uci_m['item_id'] == uci_m['user_id']]"
   ]
  },
  {
   "cell_type": "code",
   "execution_count": 36,
   "id": "22c49500-46c5-4ac0-a589-9e612e555d0a",
   "metadata": {
    "tags": []
   },
   "outputs": [],
   "source": [
    "uci_m['timestamp'] = pd.to_datetime(uci_m['timestamp'])"
   ]
  },
  {
   "cell_type": "code",
   "execution_count": 40,
   "id": "852c41a1-9aff-4522-a13f-412c4f6b2816",
   "metadata": {
    "tags": []
   },
   "outputs": [],
   "source": [
    "uci_m['timestamp'] = (uci_m['timestamp'].astype(int) / 10**9).astype(int)"
   ]
  },
  {
   "cell_type": "code",
   "execution_count": 41,
   "id": "ff1bb327-d900-403a-a11c-45133b6646b9",
   "metadata": {
    "tags": []
   },
   "outputs": [
    {
     "data": {
      "text/html": [
       "<div>\n",
       "<style scoped>\n",
       "    .dataframe tbody tr th:only-of-type {\n",
       "        vertical-align: middle;\n",
       "    }\n",
       "\n",
       "    .dataframe tbody tr th {\n",
       "        vertical-align: top;\n",
       "    }\n",
       "\n",
       "    .dataframe thead th {\n",
       "        text-align: right;\n",
       "    }\n",
       "</style>\n",
       "<table border=\"1\" class=\"dataframe\">\n",
       "  <thead>\n",
       "    <tr style=\"text-align: right;\">\n",
       "      <th></th>\n",
       "      <th>timestamp</th>\n",
       "      <th>item_id</th>\n",
       "      <th>user_id</th>\n",
       "      <th>weight</th>\n",
       "    </tr>\n",
       "  </thead>\n",
       "  <tbody>\n",
       "    <tr>\n",
       "      <th>0</th>\n",
       "      <td>1080072715</td>\n",
       "      <td>3</td>\n",
       "      <td>3</td>\n",
       "      <td>1</td>\n",
       "    </tr>\n",
       "    <tr>\n",
       "      <th>1</th>\n",
       "      <td>1080072740</td>\n",
       "      <td>1</td>\n",
       "      <td>1</td>\n",
       "      <td>1</td>\n",
       "    </tr>\n",
       "    <tr>\n",
       "      <th>2</th>\n",
       "      <td>1080699604</td>\n",
       "      <td>15</td>\n",
       "      <td>15</td>\n",
       "      <td>1</td>\n",
       "    </tr>\n",
       "    <tr>\n",
       "      <th>3</th>\n",
       "      <td>1081348428</td>\n",
       "      <td>141</td>\n",
       "      <td>141</td>\n",
       "      <td>1</td>\n",
       "    </tr>\n",
       "    <tr>\n",
       "      <th>4</th>\n",
       "      <td>1081994911</td>\n",
       "      <td>2</td>\n",
       "      <td>2</td>\n",
       "      <td>1</td>\n",
       "    </tr>\n",
       "    <tr>\n",
       "      <th>5</th>\n",
       "      <td>1082015761</td>\n",
       "      <td>1</td>\n",
       "      <td>2</td>\n",
       "      <td>157</td>\n",
       "    </tr>\n",
       "    <tr>\n",
       "      <th>6</th>\n",
       "      <td>1082119282</td>\n",
       "      <td>4</td>\n",
       "      <td>4</td>\n",
       "      <td>1</td>\n",
       "    </tr>\n",
       "    <tr>\n",
       "      <th>7</th>\n",
       "      <td>1082130639</td>\n",
       "      <td>3</td>\n",
       "      <td>4</td>\n",
       "      <td>178</td>\n",
       "    </tr>\n",
       "    <tr>\n",
       "      <th>8</th>\n",
       "      <td>1082377129</td>\n",
       "      <td>431</td>\n",
       "      <td>431</td>\n",
       "      <td>1</td>\n",
       "    </tr>\n",
       "    <tr>\n",
       "      <th>9</th>\n",
       "      <td>1082377452</td>\n",
       "      <td>473</td>\n",
       "      <td>473</td>\n",
       "      <td>1</td>\n",
       "    </tr>\n",
       "    <tr>\n",
       "      <th>10</th>\n",
       "      <td>1082377557</td>\n",
       "      <td>44</td>\n",
       "      <td>44</td>\n",
       "      <td>1</td>\n",
       "    </tr>\n",
       "    <tr>\n",
       "      <th>11</th>\n",
       "      <td>1082381972</td>\n",
       "      <td>36</td>\n",
       "      <td>36</td>\n",
       "      <td>1</td>\n",
       "    </tr>\n",
       "    <tr>\n",
       "      <th>12</th>\n",
       "      <td>1082383253</td>\n",
       "      <td>34</td>\n",
       "      <td>34</td>\n",
       "      <td>1</td>\n",
       "    </tr>\n",
       "    <tr>\n",
       "      <th>13</th>\n",
       "      <td>1082388909</td>\n",
       "      <td>5</td>\n",
       "      <td>5</td>\n",
       "      <td>1</td>\n",
       "    </tr>\n",
       "    <tr>\n",
       "      <th>14</th>\n",
       "      <td>1082389191</td>\n",
       "      <td>5</td>\n",
       "      <td>2</td>\n",
       "      <td>66</td>\n",
       "    </tr>\n",
       "    <tr>\n",
       "      <th>15</th>\n",
       "      <td>1082389300</td>\n",
       "      <td>63</td>\n",
       "      <td>63</td>\n",
       "      <td>1</td>\n",
       "    </tr>\n",
       "    <tr>\n",
       "      <th>16</th>\n",
       "      <td>1082392641</td>\n",
       "      <td>112</td>\n",
       "      <td>112</td>\n",
       "      <td>1</td>\n",
       "    </tr>\n",
       "    <tr>\n",
       "      <th>17</th>\n",
       "      <td>1082393398</td>\n",
       "      <td>1327</td>\n",
       "      <td>1327</td>\n",
       "      <td>1</td>\n",
       "    </tr>\n",
       "    <tr>\n",
       "      <th>18</th>\n",
       "      <td>1082393521</td>\n",
       "      <td>75</td>\n",
       "      <td>75</td>\n",
       "      <td>1</td>\n",
       "    </tr>\n",
       "    <tr>\n",
       "      <th>19</th>\n",
       "      <td>1082394995</td>\n",
       "      <td>27</td>\n",
       "      <td>27</td>\n",
       "      <td>1</td>\n",
       "    </tr>\n",
       "    <tr>\n",
       "      <th>20</th>\n",
       "      <td>1082395704</td>\n",
       "      <td>14</td>\n",
       "      <td>14</td>\n",
       "      <td>1</td>\n",
       "    </tr>\n",
       "    <tr>\n",
       "      <th>21</th>\n",
       "      <td>1082395845</td>\n",
       "      <td>16</td>\n",
       "      <td>16</td>\n",
       "      <td>1</td>\n",
       "    </tr>\n",
       "    <tr>\n",
       "      <th>22</th>\n",
       "      <td>1082395918</td>\n",
       "      <td>129</td>\n",
       "      <td>129</td>\n",
       "      <td>1</td>\n",
       "    </tr>\n",
       "    <tr>\n",
       "      <th>23</th>\n",
       "      <td>1082396510</td>\n",
       "      <td>18</td>\n",
       "      <td>18</td>\n",
       "      <td>1</td>\n",
       "    </tr>\n",
       "    <tr>\n",
       "      <th>24</th>\n",
       "      <td>1082397249</td>\n",
       "      <td>406</td>\n",
       "      <td>406</td>\n",
       "      <td>1</td>\n",
       "    </tr>\n",
       "  </tbody>\n",
       "</table>\n",
       "</div>"
      ],
      "text/plain": [
       "     timestamp  item_id  user_id  weight\n",
       "0   1080072715        3        3       1\n",
       "1   1080072740        1        1       1\n",
       "2   1080699604       15       15       1\n",
       "3   1081348428      141      141       1\n",
       "4   1081994911        2        2       1\n",
       "5   1082015761        1        2     157\n",
       "6   1082119282        4        4       1\n",
       "7   1082130639        3        4     178\n",
       "8   1082377129      431      431       1\n",
       "9   1082377452      473      473       1\n",
       "10  1082377557       44       44       1\n",
       "11  1082381972       36       36       1\n",
       "12  1082383253       34       34       1\n",
       "13  1082388909        5        5       1\n",
       "14  1082389191        5        2      66\n",
       "15  1082389300       63       63       1\n",
       "16  1082392641      112      112       1\n",
       "17  1082393398     1327     1327       1\n",
       "18  1082393521       75       75       1\n",
       "19  1082394995       27       27       1\n",
       "20  1082395704       14       14       1\n",
       "21  1082395845       16       16       1\n",
       "22  1082395918      129      129       1\n",
       "23  1082396510       18       18       1\n",
       "24  1082397249      406      406       1"
      ]
     },
     "execution_count": 41,
     "metadata": {},
     "output_type": "execute_result"
    }
   ],
   "source": [
    "uci_m[:25]"
   ]
  },
  {
   "cell_type": "code",
   "execution_count": 42,
   "id": "9dafd3d2-2d25-430a-858e-d624ff0b34dd",
   "metadata": {
    "tags": []
   },
   "outputs": [],
   "source": [
    "uci_m = uci_m[uci_m['item_id'] != uci_m['user_id']]"
   ]
  },
  {
   "cell_type": "code",
   "execution_count": 44,
   "id": "cceb6395-6ce1-43c9-8e1a-7f9fc8207331",
   "metadata": {
    "tags": []
   },
   "outputs": [],
   "source": [
    "uci_m.to_csv('/home/daniel/kit/master-thesis/CFTGNNExplainer/resources/datasets/raw/ucim.csv')"
   ]
  },
  {
   "cell_type": "code",
   "execution_count": 46,
   "id": "fa5a2c7e-aeef-4ef5-be97-9067d3376ff3",
   "metadata": {
    "tags": []
   },
   "outputs": [],
   "source": [
    "uci_taining = pd.read_pickle('/home/daniel/kit/master-thesis/cody-evaluation/results/tgn-training/results_uci.pkl')"
   ]
  },
  {
   "cell_type": "code",
   "execution_count": 48,
   "id": "564d5c8d-cc1c-498f-bee8-c14b03cc5cdd",
   "metadata": {
    "tags": []
   },
   "outputs": [
    {
     "data": {
      "text/plain": [
       "dict_keys(['val_aps', 'new_nodes_val_aps', 'test_ap', 'new_node_test_ap', 'epoch_times', 'train_losses', 'total_epoch_times'])"
      ]
     },
     "execution_count": 48,
     "metadata": {},
     "output_type": "execute_result"
    }
   ],
   "source": [
    "uci_taining.keys()"
   ]
  },
  {
   "cell_type": "code",
   "execution_count": 49,
   "id": "c24a7708-0753-461e-9e99-6ea0588073f5",
   "metadata": {
    "tags": []
   },
   "outputs": [
    {
     "data": {
      "text/plain": [
       "0.8938697112451554"
      ]
     },
     "execution_count": 49,
     "metadata": {},
     "output_type": "execute_result"
    }
   ],
   "source": [
    "uci_taining['new_node_test_ap']"
   ]
  },
  {
   "cell_type": "code",
   "execution_count": 50,
   "id": "f77197de-ad7a-4ef0-96fa-0b2ed1ed95cc",
   "metadata": {
    "tags": []
   },
   "outputs": [
    {
     "data": {
      "text/plain": [
       "0.9272188374930473"
      ]
     },
     "execution_count": 50,
     "metadata": {},
     "output_type": "execute_result"
    }
   ],
   "source": [
    "uci_taining['test_ap']"
   ]
  },
  {
   "cell_type": "code",
   "execution_count": 51,
   "id": "0cd7edbe-f4c2-4964-8a31-f8cef1573ba9",
   "metadata": {
    "tags": []
   },
   "outputs": [],
   "source": [
    "wiki_training = pd.read_pickle('/home/daniel/kit/master-thesis/cody-evaluation/results/tgn-training/results_wikipedia.pkl')"
   ]
  },
  {
   "cell_type": "code",
   "execution_count": 52,
   "id": "41123c63-d6a5-46af-ac81-d8ed87d725e8",
   "metadata": {
    "tags": []
   },
   "outputs": [
    {
     "data": {
      "text/plain": [
       "0.973941988914462"
      ]
     },
     "execution_count": 52,
     "metadata": {},
     "output_type": "execute_result"
    }
   ],
   "source": [
    "wiki_training['new_node_test_ap']"
   ]
  },
  {
   "cell_type": "code",
   "execution_count": 59,
   "id": "7e454b19-1aa8-4267-b9ec-a87b68418d86",
   "metadata": {
    "tags": []
   },
   "outputs": [
    {
     "data": {
      "text/plain": [
       "0.9780435565194797"
      ]
     },
     "execution_count": 59,
     "metadata": {},
     "output_type": "execute_result"
    }
   ],
   "source": [
    "wiki_training['test_ap']"
   ]
  },
  {
   "cell_type": "code",
   "execution_count": 60,
   "id": "570db0f5-0859-4763-afb0-ec2f28ca60e3",
   "metadata": {
    "tags": []
   },
   "outputs": [
    {
     "data": {
      "text/plain": [
       "[99.58801507949829,\n",
       " 94.23274326324463,\n",
       " 94.17821097373962,\n",
       " 94.32015347480774,\n",
       " 93.76405787467957,\n",
       " 94.15507698059082,\n",
       " 93.75787591934204,\n",
       " 97.66044044494629,\n",
       " 97.7374427318573,\n",
       " 94.58496713638306,\n",
       " 94.48887133598328,\n",
       " 94.7255072593689,\n",
       " 94.74099397659302,\n",
       " 95.08041453361511,\n",
       " 94.9805896282196,\n",
       " 95.03062963485718,\n",
       " 94.82103657722473,\n",
       " 94.63919878005981,\n",
       " 94.61425995826721,\n",
       " 94.75211954116821,\n",
       " 94.70011830329895,\n",
       " 94.85819339752197,\n",
       " 94.75020480155945,\n",
       " 94.61373782157898,\n",
       " 94.86755037307739,\n",
       " 94.85540008544922,\n",
       " 94.7043833732605,\n",
       " 93.90622687339783,\n",
       " 94.32662439346313,\n",
       " 94.75386357307434]"
      ]
     },
     "execution_count": 60,
     "metadata": {},
     "output_type": "execute_result"
    }
   ],
   "source": [
    "wiki_training['total_epoch_times']"
   ]
  },
  {
   "cell_type": "code",
   "execution_count": 61,
   "id": "17f09721-9244-43fc-9507-9391605823db",
   "metadata": {
    "tags": []
   },
   "outputs": [
    {
     "data": {
      "text/plain": [
       "[26.228251218795776,\n",
       " 19.88524580001831,\n",
       " 20.02283215522766,\n",
       " 19.811626195907593,\n",
       " 19.84344792366028,\n",
       " 19.804197549819946,\n",
       " 19.785263538360596,\n",
       " 19.820434093475342,\n",
       " 19.918563842773438,\n",
       " 19.916786432266235,\n",
       " 19.887455701828003,\n",
       " 19.919721841812134,\n",
       " 19.908917665481567,\n",
       " 19.90674138069153,\n",
       " 19.96695852279663,\n",
       " 20.007367849349976,\n",
       " 19.94825053215027,\n",
       " 19.947617053985596,\n",
       " 19.890585899353027,\n",
       " 19.215811014175415,\n",
       " 20.261059522628784,\n",
       " 20.611409187316895,\n",
       " 20.467809200286865]"
      ]
     },
     "execution_count": 61,
     "metadata": {},
     "output_type": "execute_result"
    }
   ],
   "source": [
    "uci_taining['total_epoch_times']"
   ]
  },
  {
   "cell_type": "code",
   "execution_count": null,
   "id": "62c8574f-7e8f-4b90-b84c-423b0224c332",
   "metadata": {},
   "outputs": [],
   "source": []
  }
 ],
 "metadata": {
  "kernelspec": {
   "display_name": "Python 3 (ipykernel)",
   "language": "python",
   "name": "python3"
  },
  "language_info": {
   "codemirror_mode": {
    "name": "ipython",
    "version": 3
   },
   "file_extension": ".py",
   "mimetype": "text/x-python",
   "name": "python",
   "nbconvert_exporter": "python",
   "pygments_lexer": "ipython3",
   "version": "3.9.18"
  }
 },
 "nbformat": 4,
 "nbformat_minor": 5
}
